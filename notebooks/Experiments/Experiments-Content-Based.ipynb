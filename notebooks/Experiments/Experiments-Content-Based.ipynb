{
 "cells": [
  {
   "cell_type": "markdown",
   "id": "7cce9cd1-faeb-4d72-afac-f0e276720d96",
   "metadata": {},
   "source": [
    "# Expirements - Content-Based Filtering"
   ]
  },
  {
   "cell_type": "markdown",
   "id": "9669be40-d740-4277-937a-422912e294ed",
   "metadata": {},
   "source": [
    "Recommends items similar to those a user liked, based on item/user attributes.\n",
    "\n",
    "Here is how each feature could help improve model performance\n",
    "\n",
    "* **User Features**:\n",
    "    - Past interactions history\n",
    "    - User’s preferred tags, categories, or creators\n",
    "\n",
    "* **Item Features**:\n",
    "    - Hashtags\n",
    "    - Categories\n",
    "    - Creator ID\n",
    "    - Video length\n",
    "    - Caption sentiment or topic modeling on text\n",
    "\n",
    "* **Interaction Features**:\n",
    "    - User-item affinity score (avg watch time, rewatch rate)\n",
    "    - Content similarity between current video and user's watched history\n",
    "\n",
    "* **Temporal Features**: Not used"
   ]
  },
  {
   "cell_type": "code",
   "execution_count": null,
   "id": "fec48c12-7181-4de7-9b6f-a6ebc600bb74",
   "metadata": {},
   "outputs": [],
   "source": []
  },
  {
   "cell_type": "code",
   "execution_count": null,
   "id": "1835e8d2-429d-4723-aa53-f5c3fc39e85a",
   "metadata": {},
   "outputs": [],
   "source": []
  },
  {
   "cell_type": "code",
   "execution_count": null,
   "id": "c2ed3a44-ed0b-42e1-bd18-3ff9dc1b47f3",
   "metadata": {},
   "outputs": [],
   "source": []
  }
 ],
 "metadata": {
  "kernelspec": {
   "display_name": "Python 3 (ipykernel)",
   "language": "python",
   "name": "python3"
  },
  "language_info": {
   "codemirror_mode": {
    "name": "ipython",
    "version": 3
   },
   "file_extension": ".py",
   "mimetype": "text/x-python",
   "name": "python",
   "nbconvert_exporter": "python",
   "pygments_lexer": "ipython3",
   "version": "3.12.9"
  }
 },
 "nbformat": 4,
 "nbformat_minor": 5
}
