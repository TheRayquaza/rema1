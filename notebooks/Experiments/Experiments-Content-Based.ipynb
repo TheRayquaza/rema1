{
 "cells": [
  {
   "cell_type": "markdown",
   "id": "7cce9cd1-faeb-4d72-afac-f0e276720d96",
   "metadata": {},
   "source": [
    "# Expirements - Content-Based Filtering"
   ]
  },
  {
   "cell_type": "markdown",
   "id": "9669be40-d740-4277-937a-422912e294ed",
   "metadata": {},
   "source": [
    "Recommends items similar to those a user liked, based on item/user attributes.\n",
    "\n",
    "Some papers:\n",
    "- [Survey on Collaborative Filtering, Content-based\n",
    "Filtering and Hybrid Recommendation System](https://www.academia.edu/download/59762468/10.1.1.695.642820190617-91457-z4s1rf.pdf)\n",
    "\n",
    "Table of content:\n",
    "- [XGBRanker](#XGBRanker)\n",
    "- [RandomForestRegressor](#RandomForestRegressor)\n",
    "- [FFNN](#FFNN)\n",
    "\n",
    "Here are the different usable features:\n",
    "\n",
    "* **User Features**:\n",
    "    - Past interactions history\n",
    "    - User’s preferred tags, categories, or creators\n",
    "\n",
    "* **Item Features**:\n",
    "  - Video Duration\n",
    "  - Video Watch Ratio\n",
    "  - Captions / Tags / Categories\n",
    "  - Reports / Likes / Comments / \n",
    "\n",
    "* **Temporal Features**: Not used"
   ]
  },
  {
   "cell_type": "markdown",
   "id": "ce263400-97c9-448a-8ab5-20adc79dcc1e",
   "metadata": {},
   "source": [
    "## Imports"
   ]
  },
  {
   "cell_type": "code",
   "execution_count": 1,
   "id": "fec48c12-7181-4de7-9b6f-a6ebc600bb74",
   "metadata": {},
   "outputs": [
    {
     "name": "stderr",
     "output_type": "stream",
     "text": [
      "2025-05-17 09:25:37.763514: I external/local_xla/xla/tsl/cuda/cudart_stub.cc:32] Could not find cuda drivers on your machine, GPU will not be used.\n",
      "2025-05-17 09:25:37.776064: I external/local_xla/xla/tsl/cuda/cudart_stub.cc:32] Could not find cuda drivers on your machine, GPU will not be used.\n",
      "2025-05-17 09:25:37.815948: E external/local_xla/xla/stream_executor/cuda/cuda_fft.cc:467] Unable to register cuFFT factory: Attempting to register factory for plugin cuFFT when one has already been registered\n",
      "WARNING: All log messages before absl::InitializeLog() is called are written to STDERR\n",
      "E0000 00:00:1747473937.875507  170820 cuda_dnn.cc:8579] Unable to register cuDNN factory: Attempting to register factory for plugin cuDNN when one has already been registered\n",
      "E0000 00:00:1747473937.891173  170820 cuda_blas.cc:1407] Unable to register cuBLAS factory: Attempting to register factory for plugin cuBLAS when one has already been registered\n",
      "W0000 00:00:1747473937.929671  170820 computation_placer.cc:177] computation placer already registered. Please check linkage and avoid linking the same target more than once.\n",
      "W0000 00:00:1747473937.929745  170820 computation_placer.cc:177] computation placer already registered. Please check linkage and avoid linking the same target more than once.\n",
      "W0000 00:00:1747473937.929753  170820 computation_placer.cc:177] computation placer already registered. Please check linkage and avoid linking the same target more than once.\n",
      "W0000 00:00:1747473937.929757  170820 computation_placer.cc:177] computation placer already registered. Please check linkage and avoid linking the same target more than once.\n",
      "2025-05-17 09:25:37.946033: I tensorflow/core/platform/cpu_feature_guard.cc:210] This TensorFlow binary is optimized to use available CPU instructions in performance-critical operations.\n",
      "To enable the following instructions: AVX2 FMA, in other operations, rebuild TensorFlow with the appropriate compiler flags.\n"
     ]
    }
   ],
   "source": [
    "from datetime import datetime\n",
    "import math\n",
    "import sys\n",
    "import os\n",
    "import random\n",
    "from cycler import cycler\n",
    "import matplotlib.pyplot as plt\n",
    "import seaborn as sns\n",
    "\n",
    "import pandas as pd\n",
    "import numpy as np\n",
    "from sklearn.metrics.pairwise import cosine_similarity\n",
    "from sklearn.model_selection import train_test_split, KFold\n",
    "\n",
    "sys.path.insert(1, '../..')\n",
    "\n",
    "from src.models.content_xgb_ranker import ContentBasedFilteringXGRanker\n",
    "from src.models.content_random_forest import ContentBasedFilteringRF\n",
    "from src.models.content_ffnn import ContentBasedFilteringNN\n",
    "from src.pipelines.content_pipeline import ContentPipeline\n",
    "from src.metrics.bench import bench_model\n",
    "from src.utils.ground_truth import build_ground_truth_top_10_percent\n",
    "\n",
    "from src.utils.random import set_seed\n",
    "\n",
    "set_seed(45)\n",
    "\n",
    "plt.rcParams[\"figure.figsize\"] = (20, 13)\n",
    "colors = plt.get_cmap('tab10').colors\n",
    "plt.rc('axes', prop_cycle=cycler('color', colors))\n",
    "\n",
    "%matplotlib inline\n",
    "%config InlineBackend.figure_format = \"retina\""
   ]
  },
  {
   "cell_type": "markdown",
   "id": "c103ce59-673c-42a6-824c-b19067886f78",
   "metadata": {},
   "source": [
    "## Preprocessing\n",
    "\n",
    "Full implementation can be found at `src/pipelines/content_pipeline.py`"
   ]
  },
  {
   "cell_type": "markdown",
   "id": "cd07fa6d-b353-4d31-99dc-afa8ad46a22b",
   "metadata": {},
   "source": [
    "### Preprocessing on User\n",
    "\n",
    "- **categorical**: is_live_streamer, is_user_full_active, is_live_streamer\n",
    "- **numerical**: followers, fans, does video has its prefered category ?, does video has its prefered upload_type ?, video_duration_diff\n",
    " "
   ]
  },
  {
   "cell_type": "markdown",
   "id": "55905e91-23c3-4614-a723-ce9de1a17c01",
   "metadata": {},
   "source": [
    "### Preprocessing on Videos\n",
    "\n",
    "- **categorical**: upload_type (18 dummies), first video category (39 dummies)\n",
    "- **text**: tags (TF-IDF), captions (TF-IDF)\n",
    "- **numerical**: engagement metrics (like, comments, shares, reports and other ratios), video_duration, is_add"
   ]
  },
  {
   "cell_type": "markdown",
   "id": "e259d031-6f44-474c-a85e-4f454e052088",
   "metadata": {},
   "source": [
    "### Final Aggregation\n",
    "\n",
    "- **Stores representations**: `self.users`, `self.videos`\n",
    "- **Column groups**  \n",
    "  - `cat_cols`: `upload_type`  \n",
    "  - `binary_cols`: flags (ad, matches, weekend, user activity, etc.)  \n",
    "  - `num_cols`: engagement & popularity metrics\n",
    "- **Feature engineering**\n",
    "  - `category_match`, `upload_type_match`, `duration_diff`\n",
    "- **Merging**: join interactions with pre-processed `users` & `videos`\n",
    "- **Preprocessing steps**  \n",
    "  1. Drop / fill missing (medians for numeric, modes for categorical)  \n",
    "  2. One-hot encode categorical (`OneHotEncoder`)  \n",
    "  3. Scale numeric (`StandardScaler`)  \n",
    "  4. TF-IDF on `tags_caption_cover` (removed because of performance issues)\n",
    "- **`fit_transform`**  \n",
    "  - Cleans interactions, computes `engagement` + `is_weekend`  \n",
    "  - Builds `videos` via `preprocess_videos`, `users` via `preprocess_users`  \n",
    "  - Learns medians, modes, OHE, scaler; saves parquet `train_processed_data`\n",
    "- **`transform`**  \n",
    "  - Reuses learned encoders/scaler on new data  "
   ]
  },
  {
   "cell_type": "code",
   "execution_count": 2,
   "id": "fd835cb3-a31e-43ec-a3aa-11c280cc50a1",
   "metadata": {},
   "outputs": [],
   "source": [
    "pipeline = ContentPipeline(tfidf_max_features=32)\n",
    "\n",
    "train_path = \"../../save/data_content_preprocessed.parquet\"\n",
    "test_path  = \"../../save/data_test_content_preprocessed.parquet\"\n",
    "\n",
    "if not os.path.exists(train_path) or not os.path.exists(test_path):\n",
    "    interactions_test = pd.read_csv(\"../data_final_project/KuaiRec 2.0/data/small_matrix.csv\")\n",
    "    interactions_train = pd.read_csv(\"../data_final_project/KuaiRec 2.0/data/big_matrix.csv\")\n",
    "    video_features = pd.read_csv(\"../data_final_project/KuaiRec 2.0/data/kuairec_caption_category.csv\", lineterminator='\\n')\n",
    "    video_categories = pd.read_csv(\"../data_final_project/KuaiRec 2.0/data/item_categories.csv\")\n",
    "    video_daily = pd.read_csv(\"../data_final_project/KuaiRec 2.0/data/item_daily_features.csv\")\n",
    "    user_features = pd.read_csv(\"../data_final_project/KuaiRec 2.0/data/user_features.csv\")\n",
    "    df_train = pipeline.fit_transform(\n",
    "        interactions=interactions_train,\n",
    "        video_features=video_features,\n",
    "        video_daily=video_daily,\n",
    "        video_categories=video_categories,\n",
    "        user_features=user_features,\n",
    "    )\n",
    "    df_test = pipeline.transform(\n",
    "        interactions=interactions_test,\n",
    "        video_features=video_features,\n",
    "        video_daily=video_daily,\n",
    "        video_categories=video_categories,\n",
    "        user_features=user_features,\n",
    "    )\n",
    "    df_train.to_parquet(train_path, compression=\"gzip\")\n",
    "    df_test.to_parquet(test_path, compression=\"gzip\")\n",
    "else:\n",
    "    df_train = pd.read_parquet(train_path)\n",
    "    df_test  = pd.read_parquet(test_path)\n",
    "    # FIX UP because loading it all takes so much time ...\n",
    "    for col in df_test.select_dtypes(include=['int', 'int64', 'int32']).columns:\n",
    "        df_test[col] = df_test[col].astype(np.int16)\n",
    "    for col in df_test.select_dtypes(include=['float', 'float64']).columns:\n",
    "        df_test[col] = df_test[col].astype(np.float32)\n",
    "    df_test.drop(columns=['user_active_degree'], inplace=True)"
   ]
  },
  {
   "cell_type": "code",
   "execution_count": 3,
   "id": "71bfc880-0abe-41d6-821b-35a610b01bf2",
   "metadata": {},
   "outputs": [
    {
     "name": "stdout",
     "output_type": "stream",
     "text": [
      "<class 'pandas.core.frame.DataFrame'>\n",
      "RangeIndex: 10300969 entries, 0 to 10300968\n",
      "Data columns (total 41 columns):\n",
      " #   Column                              Dtype  \n",
      "---  ------                              -----  \n",
      " 0   video_id                            int16  \n",
      " 1   user_id                             int16  \n",
      " 2   engagement                          float32\n",
      " 3   like_play_ratio                     float32\n",
      " 4   comment_play_ratio                  float32\n",
      " 5   share_play_ratio                    float32\n",
      " 6   like_cancel_ratio                   float32\n",
      " 7   video_duration                      float32\n",
      " 8   is_add                              int16  \n",
      " 9   like_to_comment_ratio               float32\n",
      " 10  follow_play_ratio                   float32\n",
      " 11  follow_cancel_ratio                 float32\n",
      " 12  is_lowactive_period                 int16  \n",
      " 13  is_live_streamer                    int16  \n",
      " 14  is_video_author                     int16  \n",
      " 15  follower_fan_ratio                  float32\n",
      " 16  popularity_score                    float32\n",
      " 17  video_id_count                      int16  \n",
      " 18  is_user_active                      int16  \n",
      " 19  preferred_duration                  float32\n",
      " 20  category_match                      int16  \n",
      " 21  upload_type_match                   int16  \n",
      " 22  duration_diff                       float32\n",
      " 23  upload_type_AiCutVideo              int16  \n",
      " 24  upload_type_FlashPhoto              int16  \n",
      " 25  upload_type_FollowShoot             int16  \n",
      " 26  upload_type_Kmovie                  int16  \n",
      " 27  upload_type_LocalCollection         int16  \n",
      " 28  upload_type_LocalIntelligenceAlbum  int16  \n",
      " 29  upload_type_LongCamera              int16  \n",
      " 30  upload_type_LongImport              int16  \n",
      " 31  upload_type_LongPicture             int16  \n",
      " 32  upload_type_PhotoCopy               int16  \n",
      " 33  upload_type_PictureCopy             int16  \n",
      " 34  upload_type_PictureSet              int16  \n",
      " 35  upload_type_SameFrame               int16  \n",
      " 36  upload_type_ShareFromOtherApp       int16  \n",
      " 37  upload_type_ShortCamera             int16  \n",
      " 38  upload_type_ShortImport             int16  \n",
      " 39  upload_type_UNKNOWN                 int16  \n",
      " 40  upload_type_Web                     int16  \n",
      "dtypes: float32(13), int16(28)\n",
      "memory usage: 1.0 GB\n"
     ]
    }
   ],
   "source": [
    "df_train.info()"
   ]
  },
  {
   "cell_type": "markdown",
   "id": "386febce-b10a-4a0f-b949-df0f8c0d0002",
   "metadata": {
    "jp-MarkdownHeadingCollapsed": true
   },
   "source": [
    "## Random Forest\n",
    "\n",
    "Our first model will use a a Random Forest that will try to minimze the gap between predicted engagement and actual engagement\n",
    "\n",
    "* implementation: `src/models/content_random_forest.py`\n",
    "* RandomForestRegressor: https://scikit-learn.org/stable/modules/generated/sklearn.ensemble.RandomForestRegressor.html"
   ]
  },
  {
   "cell_type": "markdown",
   "id": "08ba68b2-8fce-4cb0-9646-5358977deacb",
   "metadata": {},
   "source": [
    "### Model & Hyperparams"
   ]
  },
  {
   "cell_type": "code",
   "execution_count": 3,
   "id": "8a968ba7-9539-4787-8d23-70879066aae9",
   "metadata": {},
   "outputs": [],
   "source": [
    "X_cols = [col for col in df_train.columns if col != \"engagement\"]\n",
    "X_train = df_train[X_cols].to_numpy(copy=False)\n",
    "y_train = df_train[\"engagement\"]\n",
    "groups_train = df_train[\"user_id\"].to_numpy(copy=False)"
   ]
  },
  {
   "cell_type": "code",
   "execution_count": 6,
   "id": "15bf0218-6289-4658-9e86-a18dc8477d2b",
   "metadata": {},
   "outputs": [],
   "source": [
    "mask = ~np.isnan(X_train).any(axis=1)\n",
    "X_train_clean = X_train[mask]\n",
    "y_train_clean = y_train[mask]\n",
    "groups_train_clean = groups_train[mask]"
   ]
  },
  {
   "cell_type": "code",
   "execution_count": 7,
   "id": "267546c7-33dd-44a5-ac38-c8bbb310a911",
   "metadata": {
    "scrolled": true
   },
   "outputs": [
    {
     "name": "stderr",
     "output_type": "stream",
     "text": [
      "2025-05-16 07:49:37,503 - [INFO] {src.models.base} - Starting training with parameters: {'n_estimators': 25, 'max_depth': 6, 'min_samples_split': 10, 'min_samples_leaf': 5, 'max_features': 'sqrt', 'random_state': 42, 'n_jobs': -1}\n",
      "2025-05-16 07:49:37,504 - [INFO] {src.models.base} - Using 3-fold cross-validation\n"
     ]
    },
    {
     "name": "stdout",
     "output_type": "stream",
     "text": [
      "Training Random Forest with params: {'max_depth': 6, 'n_estimators': 25}\n"
     ]
    },
    {
     "name": "stderr",
     "output_type": "stream",
     "text": [
      "Cross-validation:   0%|                                                                                                                                                     | 0/3 [00:00<?, ?it/s]2025-05-16 07:49:37,602 - [INFO] {src.models.base} - \n",
      "==================================================\n",
      "Fold 1/3\n",
      "==================================================\n",
      "2025-05-16 07:50:43,004 - [INFO] {src.models.base} - Fold 1 NDCG: 0.461572\n",
      "Cross-validation:  33%|███████████████████████████████████████████████                                                                                              | 1/3 [01:05<02:10, 65.41s/it]2025-05-16 07:50:43,014 - [INFO] {src.models.base} - \n",
      "==================================================\n",
      "Fold 2/3\n",
      "==================================================\n",
      "2025-05-16 07:51:51,525 - [INFO] {src.models.base} - Fold 2 NDCG: 0.459078\n",
      "Cross-validation:  67%|██████████████████████████████████████████████████████████████████████████████████████████████                                               | 2/3 [02:13<01:07, 67.24s/it]2025-05-16 07:51:51,527 - [INFO] {src.models.base} - \n",
      "==================================================\n",
      "Fold 3/3\n",
      "==================================================\n",
      "2025-05-16 07:52:50,001 - [INFO] {src.models.base} - Fold 3 NDCG: 0.450828\n",
      "Cross-validation: 100%|█████████████████████████████████████████████████████████████████████████████████████████████████████████████████████████████████████████████| 3/3 [03:12<00:00, 64.14s/it]\n",
      "2025-05-16 07:52:50,027 - [INFO] {src.models.base} - \n",
      "==================================================\n",
      "2025-05-16 07:52:50,029 - [INFO] {src.models.base} - Cross-validation NDCG scores: [0.4615724100074078, 0.45907773241657596, 0.45082810551685326]\n",
      "2025-05-16 07:52:50,030 - [INFO] {src.models.base} - Mean CV NDCG: 0.457159 ± 0.004591\n",
      "2025-05-16 07:52:50,030 - [INFO] {src.models.base} - Best model NDCG: 0.461572\n",
      "2025-05-16 07:52:50,031 - [INFO] {src.models.base} - Top 10 feature importances:\n",
      "2025-05-16 07:52:50,031 - [INFO] {src.models.base} -   f6: 0.4544\n",
      "2025-05-16 07:52:50,032 - [INFO] {src.models.base} -   f21: 0.2344\n",
      "2025-05-16 07:52:50,032 - [INFO] {src.models.base} -   f29: 0.0601\n",
      "2025-05-16 07:52:50,033 - [INFO] {src.models.base} -   f4: 0.0306\n",
      "2025-05-16 07:52:50,033 - [INFO] {src.models.base} -   f9: 0.0305\n",
      "2025-05-16 07:52:50,034 - [INFO] {src.models.base} -   f10: 0.0275\n",
      "2025-05-16 07:52:50,034 - [INFO] {src.models.base} -   f28: 0.0241\n",
      "2025-05-16 07:52:50,034 - [INFO] {src.models.base} -   f20: 0.0237\n",
      "2025-05-16 07:52:50,035 - [INFO] {src.models.base} -   f18: 0.0186\n",
      "2025-05-16 07:52:50,036 - [INFO] {src.models.base} -   f37: 0.0170\n",
      "2025-05-16 07:52:50,067 - [INFO] {src.models.base} - Best model saved to ../../save/content_random_forest/rf_md6_ne25_best.pkl\n",
      "2025-05-16 07:52:50,069 - [INFO] {src.models.base} - Starting training with parameters: {'n_estimators': 50, 'max_depth': 10, 'min_samples_split': 10, 'min_samples_leaf': 5, 'max_features': 'sqrt', 'random_state': 42, 'n_jobs': -1}\n",
      "2025-05-16 07:52:50,070 - [INFO] {src.models.base} - Using 3-fold cross-validation\n"
     ]
    },
    {
     "name": "stdout",
     "output_type": "stream",
     "text": [
      "fit took 192.5476 seconds\n",
      "Training Random Forest with params: {'max_depth': 10, 'n_estimators': 50}\n"
     ]
    },
    {
     "name": "stderr",
     "output_type": "stream",
     "text": [
      "Cross-validation:   0%|                                                                                                                                                     | 0/3 [00:00<?, ?it/s]2025-05-16 07:52:50,207 - [INFO] {src.models.base} - \n",
      "==================================================\n",
      "Fold 1/3\n",
      "==================================================\n",
      "2025-05-16 07:55:20,065 - [INFO] {src.models.base} - Fold 1 NDCG: 0.470651\n",
      "Cross-validation:  33%|██████████████████████████████████████████████▋                                                                                             | 1/3 [02:29<04:59, 149.86s/it]2025-05-16 07:55:20,075 - [INFO] {src.models.base} - \n",
      "==================================================\n",
      "Fold 2/3\n",
      "==================================================\n",
      "2025-05-16 07:57:48,607 - [INFO] {src.models.base} - Fold 2 NDCG: 0.469463\n",
      "Cross-validation:  67%|█████████████████████████████████████████████████████████████████████████████████████████████▎                                              | 2/3 [04:58<02:29, 149.08s/it]2025-05-16 07:57:48,609 - [INFO] {src.models.base} - \n",
      "==================================================\n",
      "Fold 3/3\n",
      "==================================================\n",
      "2025-05-16 08:00:19,594 - [INFO] {src.models.base} - Fold 3 NDCG: 0.461536\n",
      "Cross-validation: 100%|████████████████████████████████████████████████████████████████████████████████████████████████████████████████████████████████████████████| 3/3 [07:29<00:00, 149.80s/it]\n",
      "2025-05-16 08:00:19,611 - [INFO] {src.models.base} - \n",
      "==================================================\n",
      "2025-05-16 08:00:19,612 - [INFO] {src.models.base} - Cross-validation NDCG scores: [0.4706510660738441, 0.4694634617149721, 0.46153557198491724]\n",
      "2025-05-16 08:00:19,612 - [INFO] {src.models.base} - Mean CV NDCG: 0.467217 ± 0.004046\n",
      "2025-05-16 08:00:19,613 - [INFO] {src.models.base} - Best model NDCG: 0.470651\n",
      "2025-05-16 08:00:19,613 - [INFO] {src.models.base} - Top 10 feature importances:\n",
      "2025-05-16 08:00:19,614 - [INFO] {src.models.base} -   f6: 0.3785\n",
      "2025-05-16 08:00:19,614 - [INFO] {src.models.base} -   f21: 0.2249\n",
      "2025-05-16 08:00:19,615 - [INFO] {src.models.base} -   f9: 0.0363\n",
      "2025-05-16 08:00:19,615 - [INFO] {src.models.base} -   f18: 0.0354\n",
      "2025-05-16 08:00:19,616 - [INFO] {src.models.base} -   f29: 0.0350\n",
      "2025-05-16 08:00:19,616 - [INFO] {src.models.base} -   f4: 0.0319\n",
      "2025-05-16 08:00:19,617 - [INFO] {src.models.base} -   f16: 0.0252\n",
      "2025-05-16 08:00:19,617 - [INFO] {src.models.base} -   f10: 0.0218\n",
      "2025-05-16 08:00:19,618 - [INFO] {src.models.base} -   f8: 0.0208\n",
      "2025-05-16 08:00:19,618 - [INFO] {src.models.base} -   f14: 0.0194\n",
      "2025-05-16 08:00:19,648 - [INFO] {src.models.base} - Best model saved to ../../save/content_random_forest/rf_md10_ne50_best.pkl\n",
      "2025-05-16 08:00:19,651 - [INFO] {src.models.base} - Starting training with parameters: {'n_estimators': 80, 'max_depth': 12, 'min_samples_split': 10, 'min_samples_leaf': 5, 'max_features': 'sqrt', 'random_state': 42, 'n_jobs': -1}\n",
      "2025-05-16 08:00:19,652 - [INFO] {src.models.base} - Using 3-fold cross-validation\n"
     ]
    },
    {
     "name": "stdout",
     "output_type": "stream",
     "text": [
      "fit took 449.5576 seconds\n",
      "Training Random Forest with params: {'max_depth': 12, 'n_estimators': 80}\n"
     ]
    },
    {
     "name": "stderr",
     "output_type": "stream",
     "text": [
      "Cross-validation:   0%|                                                                                                                                                     | 0/3 [00:00<?, ?it/s]2025-05-16 08:00:19,782 - [INFO] {src.models.base} - \n",
      "==================================================\n",
      "Fold 1/3\n",
      "==================================================\n",
      "2025-05-16 08:04:53,698 - [INFO] {src.models.base} - Fold 1 NDCG: 0.472044\n",
      "Cross-validation:  33%|██████████████████████████████████████████████▋                                                                                             | 1/3 [04:33<09:07, 273.92s/it]2025-05-16 08:04:53,700 - [INFO] {src.models.base} - \n",
      "==================================================\n",
      "Fold 2/3\n",
      "==================================================\n",
      "2025-05-16 08:09:35,810 - [INFO] {src.models.base} - Fold 2 NDCG: 0.471470\n",
      "Cross-validation:  67%|█████████████████████████████████████████████████████████████████████████████████████████████▎                                              | 2/3 [09:16<04:38, 278.74s/it]2025-05-16 08:09:35,812 - [INFO] {src.models.base} - \n",
      "==================================================\n",
      "Fold 3/3\n",
      "==================================================\n",
      "2025-05-16 08:14:17,514 - [INFO] {src.models.base} - Fold 3 NDCG: 0.462552\n",
      "Cross-validation: 100%|████████████████████████████████████████████████████████████████████████████████████████████████████████████████████████████████████████████| 3/3 [13:57<00:00, 279.24s/it]\n",
      "2025-05-16 08:14:17,532 - [INFO] {src.models.base} - \n",
      "==================================================\n",
      "2025-05-16 08:14:17,532 - [INFO] {src.models.base} - Cross-validation NDCG scores: [0.4720443778931958, 0.471469638266467, 0.46255210238424077]\n",
      "2025-05-16 08:14:17,533 - [INFO] {src.models.base} - Mean CV NDCG: 0.468689 ± 0.004346\n",
      "2025-05-16 08:14:17,533 - [INFO] {src.models.base} - Best model NDCG: 0.472044\n",
      "2025-05-16 08:14:17,534 - [INFO] {src.models.base} - Top 10 feature importances:\n",
      "2025-05-16 08:14:17,534 - [INFO] {src.models.base} -   f6: 0.3034\n",
      "2025-05-16 08:14:17,535 - [INFO] {src.models.base} -   f21: 0.2253\n",
      "2025-05-16 08:14:17,535 - [INFO] {src.models.base} -   f18: 0.0558\n",
      "2025-05-16 08:14:17,535 - [INFO] {src.models.base} -   f16: 0.0392\n",
      "2025-05-16 08:14:17,536 - [INFO] {src.models.base} -   f9: 0.0344\n",
      "2025-05-16 08:14:17,536 - [INFO] {src.models.base} -   f14: 0.0338\n",
      "2025-05-16 08:14:17,536 - [INFO] {src.models.base} -   f1: 0.0336\n",
      "2025-05-16 08:14:17,537 - [INFO] {src.models.base} -   f29: 0.0333\n",
      "2025-05-16 08:14:17,537 - [INFO] {src.models.base} -   f4: 0.0298\n",
      "2025-05-16 08:14:17,537 - [INFO] {src.models.base} -   f15: 0.0278\n",
      "2025-05-16 08:14:17,585 - [INFO] {src.models.base} - Best model saved to ../../save/content_random_forest/rf_md12_ne80_best.pkl\n"
     ]
    },
    {
     "name": "stdout",
     "output_type": "stream",
     "text": [
      "fit took 837.8924 seconds\n"
     ]
    }
   ],
   "source": [
    "os.makedirs(\"../../save/content_random_forest\", exist_ok=True)\n",
    "\n",
    "rf_param_list = [\n",
    "    {\"max_depth\": 6, \"n_estimators\": 25},\n",
    "    {\"max_depth\": 10, \"n_estimators\": 50},\n",
    "    {\"max_depth\": 12, \"n_estimators\": 80},\n",
    "]\n",
    "\n",
    "for param in rf_param_list:\n",
    "    print(f\"Training Random Forest with params: {param}\")\n",
    "    model = ContentBasedFilteringRF()\n",
    "    model.fit(\n",
    "        X_train_clean, y_train_clean, groups_train_clean,\n",
    "        params={\n",
    "            'n_estimators': param[\"n_estimators\"],\n",
    "            'max_depth': param[\"max_depth\"],\n",
    "            'min_samples_split': 10,\n",
    "            'min_samples_leaf': 5,\n",
    "            'max_features': 'sqrt',\n",
    "            'random_state': 42,\n",
    "            'n_jobs': -1\n",
    "        }\n",
    "    )\n",
    "    save_path = f\"../../save/content_random_forest/rf_md{param['max_depth']}_ne{param['n_estimators']}\"\n",
    "    model.save(save_path)"
   ]
  },
  {
   "cell_type": "markdown",
   "id": "983169d2-b395-4bc8-ba69-835a6ccabb1b",
   "metadata": {},
   "source": [
    "### Evaluation"
   ]
  },
  {
   "cell_type": "code",
   "execution_count": 4,
   "id": "87aae8df-5090-455d-ac9c-f6af9810ec08",
   "metadata": {},
   "outputs": [],
   "source": [
    "df_train_pivot = df_train.drop_duplicates(['user_id', 'video_id'], keep='first')\\\n",
    "            .pivot(index='user_id', columns='video_id', values='engagement')\n",
    "df_test_pivot = df_test.drop_duplicates(['user_id', 'video_id'], keep='first')\\\n",
    "            .pivot(index='user_id', columns='video_id', values='engagement')\n",
    "train_ground_truth = build_ground_truth_top_10_percent(df_train_pivot)\n",
    "test_ground_truth = build_ground_truth_top_10_percent(df_test_pivot)"
   ]
  },
  {
   "cell_type": "code",
   "execution_count": 5,
   "id": "697aa0ea-75c2-46d1-a377-6c78a34fc074",
   "metadata": {},
   "outputs": [
    {
     "name": "stderr",
     "output_type": "stream",
     "text": [
      "2025-05-16 11:11:31,696 - [INFO] {src.models.base} - Model loaded from ../../save/content_random_forest/rf_md10_ne50_best.pkl\n"
     ]
    },
    {
     "data": {
      "text/plain": [
       "<src.models.content_random_forest.ContentBasedFilteringRF at 0x7ff0eed8ea50>"
      ]
     },
     "execution_count": 5,
     "metadata": {},
     "output_type": "execute_result"
    }
   ],
   "source": [
    "best_rf_model = ContentBasedFilteringRF()\n",
    "best_rf_model.load(f\"../../save/content_random_forest/rf_md10_ne50_best.pkl\")"
   ]
  },
  {
   "cell_type": "code",
   "execution_count": 6,
   "id": "98432adb-6211-4e54-b660-2001e7a9fa7f",
   "metadata": {},
   "outputs": [],
   "source": [
    "X_cols = [col for col in df_test.columns if col != \"engagement\"]\n",
    "X_test = df_test[X_cols].to_numpy(copy=False)\n",
    "y_test = df_test[\"engagement\"]\n",
    "mask = ~np.isnan(X_test).any(axis=1)\n",
    "X_test_clean = X_test[mask]\n",
    "y_test_clean = y_test[mask]\n",
    "all_user_item_ids = X_test_clean[: , :2] # video_id, user_id"
   ]
  },
  {
   "cell_type": "code",
   "execution_count": 7,
   "id": "619d5e3d-ddce-41b6-9aa7-0993495c594f",
   "metadata": {},
   "outputs": [
    {
     "name": "stderr",
     "output_type": "stream",
     "text": [
      "2025-05-16 11:11:32,476 - [INFO] {src.models.base} - Generating predictions for 12571 samples...\n",
      "2025-05-16 11:11:32,476 - [INFO] {src.models.base} - Using best model for prediction\n"
     ]
    },
    {
     "name": "stdout",
     "output_type": "stream",
     "text": [
      "predict took 0.0141 seconds\n",
      "recommend took 0.0215 seconds\n",
      "user 14: 44 / 100 test recommendations in ground truth\n",
      "user 19: 38 / 100 test recommendations in ground truth\n",
      "user 21: 57 / 100 test recommendations in ground truth\n",
      "user 23: 20 / 100 test recommendations in ground truth\n"
     ]
    }
   ],
   "source": [
    "K = 100\n",
    "N_USERS = 10\n",
    "\n",
    "user_ids = [14, 19, 21, 23]\n",
    "\n",
    "mask = np.isin(X_test_clean[:, 1], user_ids) # second column is user id\n",
    "X_subset = X_test_clean[mask]\n",
    "all_user_item_ids_subset = all_user_item_ids[mask]\n",
    "\n",
    "recommendations = best_rf_model.recommend(\n",
    "    X=X_subset,\n",
    "    user_ids=user_ids,\n",
    "    all_user_item_ids=all_user_item_ids_subset,\n",
    "    top_n=K\n",
    ")\n",
    "\n",
    "for user in user_ids:\n",
    "    recommended_items = [item_id for item_id, _ in recommendations.get(user, [])]\n",
    "\n",
    "    test_hits = len(set(test_ground_truth.get(user, [])).intersection(recommended_items))\n",
    "    print(f\"user {user}: {test_hits} / {K} test recommendations in ground truth\")"
   ]
  },
  {
   "cell_type": "code",
   "execution_count": 8,
   "id": "ae787cab-40b7-4204-9b45-af9647f9ed9b",
   "metadata": {},
   "outputs": [
    {
     "name": "stderr",
     "output_type": "stream",
     "text": [
      "2025-05-16 11:11:32,644 - [INFO] {src.models.base} - Generating predictions for 31485 samples...\n",
      "2025-05-16 11:11:32,645 - [INFO] {src.models.base} - Using best model for prediction\n"
     ]
    },
    {
     "name": "stdout",
     "output_type": "stream",
     "text": [
      "Selected users: [2812.0, 4461.0, 5096.0, 2686.0, 946.0, 3221.0, 3625.0, 242.0, 847.0, 5066.0]\n",
      "predict took 0.0373 seconds\n",
      "recommend took 0.0513 seconds\n",
      "{2812.0: [9178.0, 314.0, 154.0, 4040.0, 5464.0, 600.0, 7383.0, 1305.0, 8524.0, 8366.0, 5525.0, 9910.0, 6787.0, 9815.0, 4123.0, 6222.0, 2130.0, 10206.0, 2337.0, 7594.0, 211.0, 8958.0, 3344.0, 2590.0, 7375.0, 5995.0, 2343.0, 4932.0, 9907.0, 8298.0, 8732.0, 5365.0, 2263.0, 701.0, 3338.0, 619.0, 4367.0, 10062.0, 7135.0, 3723.0, 7049.0, 1445.0, 2894.0, 9199.0, 8186.0, 723.0, 4637.0, 3947.0, 4282.0, 10519.0, 9850.0, 6870.0, 9261.0, 3107.0, 3118.0, 5716.0, 10500.0, 6985.0, 9892.0, 3211.0, 7559.0, 4858.0, 4665.0, 2354.0, 9786.0, 8629.0, 4689.0, 7085.0, 768.0, 2396.0, 905.0, 7190.0, 5466.0, 8743.0, 4094.0, 9794.0, 624.0, 3904.0, 1372.0, 217.0, 9965.0, 1412.0, 2178.0, 3597.0, 7284.0, 471.0, 2383.0, 5666.0, 4312.0, 289.0, 4101.0, 8531.0, 690.0, 4025.0, 9812.0, 8464.0, 10037.0, 4663.0, 8819.0, 2312.0], 4461.0: [4040.0, 9178.0, 314.0, 154.0, 1305.0, 7383.0, 5464.0, 600.0, 5525.0, 8524.0, 8366.0, 6787.0, 9815.0, 2458.0, 10206.0, 4123.0, 6222.0, 2130.0, 7594.0, 2343.0, 2590.0, 5995.0, 8298.0, 8732.0, 9907.0, 5365.0, 619.0, 4367.0, 7049.0, 3723.0, 2894.0, 4282.0, 10062.0, 4637.0, 7135.0, 211.0, 723.0, 2263.0, 1445.0, 9850.0, 9199.0, 3344.0, 905.0, 7085.0, 8186.0, 4094.0, 9261.0, 10519.0, 8958.0, 2178.0, 9786.0, 6870.0, 8629.0, 4665.0, 171.0, 5716.0, 7559.0, 2337.0, 4689.0, 4858.0, 3947.0, 3107.0, 5528.0, 5901.0, 9758.0, 8743.0, 1325.0, 2354.0, 624.0, 6879.0, 9568.0, 3118.0, 2396.0, 6985.0, 6261.0, 8777.0, 9965.0, 7070.0, 2312.0, 7190.0, 6778.0, 2245.0, 250.0, 3904.0, 9937.0, 7284.0, 217.0, 1372.0, 2172.0, 7375.0, 7046.0, 9701.0, 289.0, 5466.0, 4740.0, 148.0, 9794.0, 2629.0, 701.0, 7076.0], 5096.0: [9178.0, 4040.0, 314.0, 154.0, 1305.0, 7383.0, 5464.0, 600.0, 5525.0, 8366.0, 8524.0, 6787.0, 9815.0, 2458.0, 4123.0, 10206.0, 6222.0, 2130.0, 7594.0, 2343.0, 2590.0, 8298.0, 5995.0, 8732.0, 9907.0, 5365.0, 619.0, 4367.0, 3723.0, 7049.0, 10062.0, 2894.0, 4282.0, 4637.0, 211.0, 723.0, 2263.0, 7135.0, 3344.0, 10519.0, 9850.0, 1445.0, 9199.0, 4094.0, 7085.0, 8958.0, 9261.0, 9786.0, 8629.0, 8186.0, 2178.0, 6870.0, 905.0, 4689.0, 7559.0, 4665.0, 2337.0, 3947.0, 3107.0, 171.0, 5528.0, 4858.0, 5716.0, 2354.0, 6985.0, 8743.0, 7070.0, 7375.0, 9568.0, 624.0, 6879.0, 2396.0, 10500.0, 9965.0, 9758.0, 6778.0, 5901.0, 8777.0, 1325.0, 7284.0, 250.0, 9937.0, 3118.0, 2312.0, 3904.0, 6261.0, 2245.0, 8766.0, 5466.0, 7190.0, 2172.0, 1372.0, 217.0, 7046.0, 9701.0, 5756.0, 289.0, 4015.0, 7440.0, 2472.0], 2686.0: [4040.0, 314.0, 9178.0, 154.0, 600.0, 7383.0, 5464.0, 1305.0, 8366.0, 5525.0, 8524.0, 6787.0, 9815.0, 2458.0, 4123.0, 10206.0, 6222.0, 2130.0, 2590.0, 2263.0, 2343.0, 7594.0, 5995.0, 8298.0, 5365.0, 9907.0, 8732.0, 4932.0, 619.0, 7049.0, 10062.0, 3723.0, 4282.0, 2894.0, 701.0, 4637.0, 211.0, 723.0, 9199.0, 9850.0, 7135.0, 4367.0, 3338.0, 8186.0, 7085.0, 10519.0, 1445.0, 3344.0, 8958.0, 6870.0, 9261.0, 3947.0, 4665.0, 4858.0, 7559.0, 905.0, 5528.0, 4689.0, 6985.0, 2337.0, 3883.0, 2354.0, 2178.0, 9568.0, 3107.0, 5716.0, 9786.0, 9965.0, 6261.0, 5901.0, 4094.0, 624.0, 8629.0, 171.0, 6879.0, 8777.0, 2312.0, 3118.0, 217.0, 7284.0, 8743.0, 2245.0, 6778.0, 3904.0, 7375.0, 4015.0, 9701.0, 250.0, 1372.0, 7046.0, 7076.0, 1325.0, 5853.0, 5466.0, 2629.0, 2396.0, 4715.0, 3597.0, 5993.0, 8766.0], 946.0: [4040.0, 314.0, 154.0, 1305.0, 7383.0, 600.0, 5464.0, 5525.0, 8524.0, 8366.0, 6787.0, 9815.0, 10206.0, 4123.0, 6222.0, 7594.0, 2130.0, 2590.0, 1445.0, 2343.0, 5995.0, 9907.0, 8298.0, 5716.0, 3107.0, 9178.0, 5365.0, 2354.0, 211.0, 7049.0, 619.0, 3723.0, 1412.0, 4367.0, 3344.0, 8958.0, 8732.0, 2337.0, 4637.0, 1146.0, 4282.0, 3183.0, 7820.0, 7135.0, 2894.0, 10062.0, 2589.0, 4015.0, 7375.0, 8186.0, 4932.0, 9892.0, 901.0, 3947.0, 3338.0, 723.0, 9850.0, 9261.0, 7559.0, 6309.0, 6870.0, 2263.0, 3211.0, 9786.0, 905.0, 7085.0, 5782.0, 9199.0, 5466.0, 768.0, 10519.0, 5853.0, 171.0, 217.0, 8629.0, 10500.0, 4665.0, 2178.0, 4858.0, 8743.0, 9568.0, 2396.0, 786.0, 701.0, 624.0, 4689.0, 6879.0, 3113.0, 1372.0, 3904.0, 9965.0, 8777.0, 3615.0, 890.0, 6985.0, 183.0, 7284.0, 4663.0, 2472.0, 289.0], 3221.0: [9178.0, 314.0, 4040.0, 154.0, 600.0, 5464.0, 7383.0, 1305.0, 5525.0, 8524.0, 8366.0, 6787.0, 9815.0, 2458.0, 4123.0, 10206.0, 6222.0, 2130.0, 7594.0, 2590.0, 2343.0, 5995.0, 8298.0, 8732.0, 5365.0, 9907.0, 2263.0, 619.0, 7049.0, 4932.0, 10062.0, 4367.0, 3723.0, 4282.0, 701.0, 4637.0, 2894.0, 9199.0, 723.0, 3338.0, 211.0, 9850.0, 7135.0, 6870.0, 1445.0, 3344.0, 7085.0, 9261.0, 8958.0, 10519.0, 3947.0, 8186.0, 5528.0, 905.0, 2337.0, 6985.0, 4665.0, 9786.0, 2178.0, 3107.0, 4858.0, 7559.0, 2354.0, 4689.0, 9568.0, 8629.0, 4094.0, 5716.0, 9965.0, 171.0, 6879.0, 8743.0, 7284.0, 624.0, 6261.0, 8777.0, 7375.0, 6778.0, 2312.0, 3904.0, 2396.0, 2245.0, 7190.0, 3118.0, 7070.0, 1325.0, 250.0, 4015.0, 5901.0, 7076.0, 7046.0, 217.0, 1372.0, 5466.0, 4740.0, 768.0, 4715.0, 9701.0, 3883.0, 1412.0], 3625.0: [9178.0, 314.0, 154.0, 600.0, 4040.0, 5464.0, 7383.0, 1305.0, 8366.0, 8524.0, 5525.0, 6787.0, 9815.0, 2458.0, 10206.0, 4123.0, 6222.0, 2130.0, 7594.0, 2343.0, 2590.0, 8732.0, 5995.0, 8298.0, 1445.0, 9907.0, 5365.0, 2354.0, 3107.0, 5716.0, 619.0, 4015.0, 10062.0, 3723.0, 7049.0, 1412.0, 4367.0, 4282.0, 4637.0, 2894.0, 2589.0, 9199.0, 7820.0, 3183.0, 9850.0, 7135.0, 723.0, 211.0, 9261.0, 3344.0, 8186.0, 3947.0, 7085.0, 5528.0, 8958.0, 2178.0, 4858.0, 9786.0, 10519.0, 171.0, 905.0, 6985.0, 7559.0, 901.0, 4689.0, 4665.0, 2337.0, 2312.0, 9965.0, 4094.0, 9568.0, 6778.0, 5782.0, 624.0, 6879.0, 2263.0, 7284.0, 2137.0, 2396.0, 8777.0, 785.0, 7190.0, 250.0, 3118.0, 8629.0, 2245.0, 8743.0, 217.0, 7046.0, 7076.0, 7375.0, 7070.0, 9701.0, 5901.0, 5466.0, 1325.0, 3883.0, 1352.0, 1372.0, 6309.0], 242.0: [9178.0, 314.0, 154.0, 600.0, 4040.0, 5464.0, 7383.0, 1305.0, 8524.0, 8366.0, 5525.0, 6787.0, 9815.0, 2458.0, 10206.0, 6222.0, 2130.0, 4123.0, 2590.0, 7594.0, 2343.0, 5995.0, 8732.0, 9907.0, 5365.0, 8298.0, 10062.0, 4367.0, 7049.0, 4637.0, 619.0, 3723.0, 6090.0, 2894.0, 2312.0, 9199.0, 4282.0, 9850.0, 6870.0, 7135.0, 723.0, 211.0, 6985.0, 1445.0, 3947.0, 9261.0, 8186.0, 8743.0, 3344.0, 7085.0, 171.0, 2178.0, 8777.0, 10519.0, 4094.0, 7190.0, 8958.0, 9786.0, 4665.0, 7559.0, 5716.0, 7070.0, 5528.0, 4689.0, 2337.0, 905.0, 3107.0, 2354.0, 4858.0, 9568.0, 7284.0, 6879.0, 5466.0, 9937.0, 3118.0, 9965.0, 250.0, 8629.0, 624.0, 1325.0, 10138.0, 2263.0, 4015.0, 2172.0, 7076.0, 3883.0, 6778.0, 1372.0, 10037.0, 3742.0, 4740.0, 2245.0, 7046.0, 3597.0, 5901.0, 289.0, 8660.0, 9794.0, 10500.0, 6309.0], 847.0: [4040.0, 9178.0, 314.0, 154.0, 7383.0, 600.0, 1305.0, 5464.0, 5525.0, 8366.0, 8524.0, 6787.0, 9815.0, 2458.0, 10206.0, 4123.0, 6222.0, 2130.0, 7594.0, 2343.0, 5995.0, 2590.0, 8298.0, 8732.0, 5365.0, 9907.0, 7049.0, 4367.0, 619.0, 3723.0, 2894.0, 8777.0, 10062.0, 211.0, 4282.0, 7135.0, 723.0, 4637.0, 2263.0, 4094.0, 1445.0, 3344.0, 8958.0, 9850.0, 9199.0, 10519.0, 8186.0, 905.0, 7085.0, 9261.0, 9786.0, 8629.0, 6870.0, 8743.0, 2178.0, 5716.0, 4665.0, 2337.0, 7559.0, 3947.0, 3107.0, 2354.0, 4858.0, 5528.0, 4689.0, 171.0, 7070.0, 5901.0, 1325.0, 9758.0, 3118.0, 2396.0, 9568.0, 6879.0, 6985.0, 624.0, 7375.0, 7284.0, 9965.0, 250.0, 3904.0, 6261.0, 2245.0, 6778.0, 2312.0, 8766.0, 9937.0, 7190.0, 701.0, 1372.0, 217.0, 4740.0, 2172.0, 10500.0, 8464.0, 5756.0, 289.0, 9701.0, 768.0, 5466.0], 5066.0: [4040.0, 314.0, 154.0, 9178.0, 600.0, 7383.0, 5464.0, 1305.0, 8366.0, 5525.0, 8524.0, 9910.0, 9815.0, 6787.0, 4123.0, 10206.0, 6222.0, 2130.0, 7594.0, 4932.0, 2263.0, 5995.0, 2590.0, 211.0, 2343.0, 8298.0, 701.0, 5365.0, 9907.0, 3338.0, 8732.0, 3344.0, 8958.0, 2337.0, 619.0, 4282.0, 7049.0, 1445.0, 3723.0, 10062.0, 7375.0, 4367.0, 3947.0, 8186.0, 7559.0, 7135.0, 9199.0, 4637.0, 9261.0, 10519.0, 5853.0, 723.0, 2894.0, 9786.0, 768.0, 6870.0, 3211.0, 5466.0, 9892.0, 217.0, 9850.0, 4858.0, 3107.0, 7085.0, 2354.0, 624.0, 2396.0, 4740.0, 5716.0, 3904.0, 2178.0, 9965.0, 4665.0, 7744.0, 3118.0, 10500.0, 8464.0, 905.0, 9568.0, 289.0, 171.0, 5519.0, 8629.0, 6985.0, 1412.0, 3050.0, 9794.0, 4312.0, 5811.0, 8743.0, 4689.0, 4177.0, 1372.0, 6261.0, 3597.0, 2312.0, 6879.0, 7284.0, 8531.0, 6315.0]}\n"
     ]
    }
   ],
   "source": [
    "test_sample_user_ids = random.sample(list(np.unique(X_test_clean[:, 1])), N_USERS)\n",
    "test_sample_recommendations = {}\n",
    "print(f\"Selected users: {test_sample_user_ids}\")\n",
    "\n",
    "mask = np.isin(X_test_clean[:, 1], test_sample_user_ids) # second column is user id\n",
    "X_subset = X_test_clean[mask]\n",
    "all_user_item_ids_subset = all_user_item_ids[mask]\n",
    "\n",
    "test_sample_recommendations_with_scores = best_rf_model.recommend(\n",
    "    X=X_subset,\n",
    "    user_ids=test_sample_user_ids,\n",
    "    all_user_item_ids=all_user_item_ids_subset,\n",
    "    top_n=K\n",
    ")\n",
    "test_sample_recommendations = {\n",
    "    user: [item_id for item_id, _ in item_score_list]\n",
    "    for user, item_score_list in test_sample_recommendations_with_scores.items()\n",
    "}\n",
    "test_sample_ground_truth = {user: test_ground_truth.get(user, []) for user in test_sample_user_ids}"
   ]
  },
  {
   "cell_type": "code",
   "execution_count": 9,
   "id": "7a849df7-9c45-44e1-b1dc-00d579a3c90e",
   "metadata": {},
   "outputs": [
    {
     "name": "stdout",
     "output_type": "stream",
     "text": [
      "Testing: k=100, users=10\n",
      "\n",
      "NDCG@100 = 0.6269\n",
      "MAP@100 = 0.5730\n",
      "MAR@100 = 0.1746\n",
      "F1@100 = 0.2676\n"
     ]
    }
   ],
   "source": [
    "print(f\"Testing: k={K}, users={N_USERS}\\n\")\n",
    "bench_model(recommendations=test_sample_recommendations, ground_truth=test_sample_ground_truth, k=K)"
   ]
  },
  {
   "cell_type": "markdown",
   "id": "3ca495e0-c17b-4096-a630-8225ac3e16dc",
   "metadata": {
    "jp-MarkdownHeadingCollapsed": true
   },
   "source": [
    "## XGBRanker\n",
    "\n",
    "XGBRanker will try to maximize the NDCG on user and item representation from carefuly selected features including (see EDAs for more information):\n",
    "- Video features:\n",
    "    - **categorical**: upload_type (18 dummies), first video category (39 dummies)\n",
    "    - **text**: tags (TF-IDF), captions (TF-IDF)\n",
    "    - **numerical**: engagement metrics (like, comments, shares, reports and other ratios), video_duration, is_add\n",
    "- User features:\n",
    "    - **categorical**: is_live_streamer, is_user_full_active, is_live_streamer\n",
    "    - **numerical**: followers, fans, does video has its prefered category ?, does video has its prefered upload_type ?, video_duration_diff\n",
    " \n",
    "* implementation: `src/models/content_xgbranker.py`\n",
    "* XGBoostRanker: https://xgboost.readthedocs.io/en/latest/tutorials/learning_to_rank.html"
   ]
  },
  {
   "cell_type": "markdown",
   "id": "a4937fb9-2a1d-4f7a-89f6-a488078e5f35",
   "metadata": {
    "jp-MarkdownHeadingCollapsed": true
   },
   "source": [
    "### Model & Hyperparams\n",
    "\n",
    "Scaling y recommendation between 0 and 20"
   ]
  },
  {
   "cell_type": "code",
   "execution_count": 3,
   "id": "7eb61cac-985d-4753-b6b4-03b1b611b367",
   "metadata": {},
   "outputs": [
    {
     "name": "stdout",
     "output_type": "stream",
     "text": [
      "[15 15  1 ...  8  5 11]\n"
     ]
    }
   ],
   "source": [
    "X_cols = [col for col in df_train.columns if col != \"engagement\"]\n",
    "X_train = df_train[X_cols].to_numpy(copy=False)\n",
    "y_train = df_train[\"engagement\"]\n",
    "y_scaled = (y_train / np.max(y_train)) * 10 if np.max(y_train) > 0 else y_train\n",
    "groups_train = df_train[\"user_id\"].to_numpy(copy=False)\n",
    "\n",
    "q1 = np.percentile(y_train, 25)\n",
    "q2 = np.percentile(y_train, 50)\n",
    "q3 = np.percentile(y_train, 75)\n",
    "max_val = np.max(y_train)\n",
    "\n",
    "y_scaled = np.zeros_like(y_train)\n",
    "\n",
    "mask1 = (y_train <= q1) & (y_train >= 0)\n",
    "if q1 > 0:\n",
    "    y_scaled[mask1] = np.round(5 * y_train[mask1] / q1)\n",
    "mask2 = (y_train > q1) & (y_train <= q2)\n",
    "if q2 > q1:\n",
    "    y_scaled[mask2] = np.round(5 + 5 * (y_train[mask2] - q1) / (q2 - q1))\n",
    "mask3 = (y_train > q2) & (y_train <= q3)\n",
    "if q3 > q2:\n",
    "    y_scaled[mask3] = np.round(10 + 5 * (y_train[mask3] - q2) / (q3 - q2))\n",
    "mask4 = (y_train > q3)\n",
    "if max_val > q3:\n",
    "    y_scaled[mask4] = np.round(15 + 5 * (y_train[mask4] - q3) / (max_val - q3))\n",
    "y_scaled = y_scaled.astype(int)\n",
    "print(y_scaled)"
   ]
  },
  {
   "cell_type": "code",
   "execution_count": 4,
   "id": "fcc17097-e874-422b-aebc-fcb40b241131",
   "metadata": {
    "scrolled": true
   },
   "outputs": [
    {
     "name": "stderr",
     "output_type": "stream",
     "text": [
      "2025-05-15 23:10:34,064 - [INFO] {src.models.base} - Starting training with parameters: {'objective': 'rank:ndcg', 'eval_metric': 'ndcg@100', 'learning_rate': 0.05, 'ndcg_exp_gain': False, 'max_depth': 8, 'min_child_weight': 50, 'subsample': 0.8, 'colsample_bytree': 0.7, 'n_estimators': 75, 'tree_method': 'approx', 'random_state': 42}\n",
      "2025-05-15 23:10:34,065 - [INFO] {src.models.base} - Using 3-fold cross-validation\n"
     ]
    },
    {
     "name": "stdout",
     "output_type": "stream",
     "text": [
      "Training XGB Ranker with params: {'max_depth': 8, 'n_estimators': 75, 'tree_method': 'approx'}\n"
     ]
    },
    {
     "name": "stderr",
     "output_type": "stream",
     "text": [
      "Cross-validation:   0%|                                                 | 0/3 [00:00<?, ?it/s]2025-05-15 23:10:34,158 - [INFO] {src.models.base} - \n",
      "==================================================\n",
      "Fold 1/3\n",
      "==================================================\n",
      "/home/mateo/rema1/.venv-tf/lib/python3.11/site-packages/xgboost/callback.py:386: UserWarning: [23:10:36] WARNING: /workspace/src/learner.cc:738: \n",
      "Parameters: { \"n_estimators\" } are not used.\n",
      "\n",
      "  self.starting_round = model.num_boosted_rounds()\n"
     ]
    },
    {
     "name": "stdout",
     "output_type": "stream",
     "text": [
      "[0]\ttrain-ndcg@100:0.67943\tvalidation-ndcg@100:0.68371\n",
      "[10]\ttrain-ndcg@100:0.68238\tvalidation-ndcg@100:0.68617\n",
      "[20]\ttrain-ndcg@100:0.68482\tvalidation-ndcg@100:0.68818\n",
      "[30]\ttrain-ndcg@100:0.68562\tvalidation-ndcg@100:0.68857\n",
      "[40]\ttrain-ndcg@100:0.68620\tvalidation-ndcg@100:0.68880\n",
      "[50]\ttrain-ndcg@100:0.68642\tvalidation-ndcg@100:0.68909\n",
      "[60]\ttrain-ndcg@100:0.68682\tvalidation-ndcg@100:0.68950\n",
      "[70]\ttrain-ndcg@100:0.68709\tvalidation-ndcg@100:0.68959\n"
     ]
    },
    {
     "name": "stderr",
     "output_type": "stream",
     "text": [
      "Cross-validation:   0%|                                                 | 0/3 [05:08<?, ?it/s]\n"
     ]
    },
    {
     "ename": "KeyboardInterrupt",
     "evalue": "",
     "output_type": "error",
     "traceback": [
      "\u001b[0;31m---------------------------------------------------------------------------\u001b[0m",
      "\u001b[0;31mKeyboardInterrupt\u001b[0m                         Traceback (most recent call last)",
      "Cell \u001b[0;32mIn[4], line 15\u001b[0m\n\u001b[1;32m     13\u001b[0m \u001b[38;5;28mprint\u001b[39m(\u001b[38;5;124mf\u001b[39m\u001b[38;5;124m\"\u001b[39m\u001b[38;5;124mTraining XGB Ranker with params: \u001b[39m\u001b[38;5;132;01m{\u001b[39;00mparam\u001b[38;5;132;01m}\u001b[39;00m\u001b[38;5;124m\"\u001b[39m)\n\u001b[1;32m     14\u001b[0m model \u001b[38;5;241m=\u001b[39m ContentBasedFilteringXGRanker()\n\u001b[0;32m---> 15\u001b[0m \u001b[43mmodel\u001b[49m\u001b[38;5;241;43m.\u001b[39;49m\u001b[43mfit\u001b[49m\u001b[43m(\u001b[49m\n\u001b[1;32m     16\u001b[0m \u001b[43m    \u001b[49m\u001b[43mX_train\u001b[49m\u001b[43m,\u001b[49m\u001b[43m \u001b[49m\u001b[43my_scaled\u001b[49m\u001b[43m,\u001b[49m\u001b[43m \u001b[49m\u001b[43mgroups_train\u001b[49m\u001b[43m,\u001b[49m\n\u001b[1;32m     17\u001b[0m \u001b[43m    \u001b[49m\u001b[43mparams\u001b[49m\u001b[38;5;241;43m=\u001b[39;49m\u001b[43m{\u001b[49m\n\u001b[1;32m     18\u001b[0m \u001b[43m        \u001b[49m\u001b[38;5;124;43m'\u001b[39;49m\u001b[38;5;124;43mobjective\u001b[39;49m\u001b[38;5;124;43m'\u001b[39;49m\u001b[43m:\u001b[49m\u001b[43m \u001b[49m\u001b[38;5;124;43m'\u001b[39;49m\u001b[38;5;124;43mrank:ndcg\u001b[39;49m\u001b[38;5;124;43m'\u001b[39;49m\u001b[43m,\u001b[49m\n\u001b[1;32m     19\u001b[0m \u001b[43m        \u001b[49m\u001b[38;5;124;43m'\u001b[39;49m\u001b[38;5;124;43meval_metric\u001b[39;49m\u001b[38;5;124;43m'\u001b[39;49m\u001b[43m:\u001b[49m\u001b[43m \u001b[49m\u001b[38;5;124;43m'\u001b[39;49m\u001b[38;5;124;43mndcg@100\u001b[39;49m\u001b[38;5;124;43m'\u001b[39;49m\u001b[43m,\u001b[49m\n\u001b[1;32m     20\u001b[0m \u001b[43m        \u001b[49m\u001b[38;5;124;43m'\u001b[39;49m\u001b[38;5;124;43mlearning_rate\u001b[39;49m\u001b[38;5;124;43m'\u001b[39;49m\u001b[43m:\u001b[49m\u001b[43m \u001b[49m\u001b[38;5;241;43m0.05\u001b[39;49m\u001b[43m,\u001b[49m\n\u001b[1;32m     21\u001b[0m \u001b[43m        \u001b[49m\u001b[38;5;124;43m'\u001b[39;49m\u001b[38;5;124;43mndcg_exp_gain\u001b[39;49m\u001b[38;5;124;43m'\u001b[39;49m\u001b[43m:\u001b[49m\u001b[43m \u001b[49m\u001b[38;5;28;43;01mFalse\u001b[39;49;00m\u001b[43m,\u001b[49m\n\u001b[1;32m     22\u001b[0m \u001b[43m        \u001b[49m\u001b[38;5;124;43m'\u001b[39;49m\u001b[38;5;124;43mmax_depth\u001b[39;49m\u001b[38;5;124;43m'\u001b[39;49m\u001b[43m:\u001b[49m\u001b[43m \u001b[49m\u001b[43mparam\u001b[49m\u001b[43m[\u001b[49m\u001b[38;5;124;43m\"\u001b[39;49m\u001b[38;5;124;43mmax_depth\u001b[39;49m\u001b[38;5;124;43m\"\u001b[39;49m\u001b[43m]\u001b[49m\u001b[43m,\u001b[49m\n\u001b[1;32m     23\u001b[0m \u001b[43m        \u001b[49m\u001b[38;5;124;43m'\u001b[39;49m\u001b[38;5;124;43mmin_child_weight\u001b[39;49m\u001b[38;5;124;43m'\u001b[39;49m\u001b[43m:\u001b[49m\u001b[43m \u001b[49m\u001b[38;5;241;43m50\u001b[39;49m\u001b[43m,\u001b[49m\n\u001b[1;32m     24\u001b[0m \u001b[43m        \u001b[49m\u001b[38;5;124;43m'\u001b[39;49m\u001b[38;5;124;43msubsample\u001b[39;49m\u001b[38;5;124;43m'\u001b[39;49m\u001b[43m:\u001b[49m\u001b[43m \u001b[49m\u001b[38;5;241;43m0.8\u001b[39;49m\u001b[43m,\u001b[49m\n\u001b[1;32m     25\u001b[0m \u001b[43m        \u001b[49m\u001b[38;5;124;43m'\u001b[39;49m\u001b[38;5;124;43mcolsample_bytree\u001b[39;49m\u001b[38;5;124;43m'\u001b[39;49m\u001b[43m:\u001b[49m\u001b[43m \u001b[49m\u001b[38;5;241;43m0.7\u001b[39;49m\u001b[43m,\u001b[49m\n\u001b[1;32m     26\u001b[0m \u001b[43m        \u001b[49m\u001b[38;5;124;43m'\u001b[39;49m\u001b[38;5;124;43mn_estimators\u001b[39;49m\u001b[38;5;124;43m'\u001b[39;49m\u001b[43m:\u001b[49m\u001b[43m \u001b[49m\u001b[43mparam\u001b[49m\u001b[43m[\u001b[49m\u001b[38;5;124;43m\"\u001b[39;49m\u001b[38;5;124;43mn_estimators\u001b[39;49m\u001b[38;5;124;43m\"\u001b[39;49m\u001b[43m]\u001b[49m\u001b[43m,\u001b[49m\n\u001b[1;32m     27\u001b[0m \u001b[43m        \u001b[49m\u001b[38;5;124;43m'\u001b[39;49m\u001b[38;5;124;43mtree_method\u001b[39;49m\u001b[38;5;124;43m'\u001b[39;49m\u001b[43m:\u001b[49m\u001b[43m \u001b[49m\u001b[43mparam\u001b[49m\u001b[43m[\u001b[49m\u001b[38;5;124;43m\"\u001b[39;49m\u001b[38;5;124;43mtree_method\u001b[39;49m\u001b[38;5;124;43m\"\u001b[39;49m\u001b[43m]\u001b[49m\u001b[43m,\u001b[49m\n\u001b[1;32m     28\u001b[0m \u001b[43m        \u001b[49m\u001b[38;5;124;43m'\u001b[39;49m\u001b[38;5;124;43mrandom_state\u001b[39;49m\u001b[38;5;124;43m'\u001b[39;49m\u001b[43m:\u001b[49m\u001b[43m \u001b[49m\u001b[38;5;241;43m42\u001b[39;49m\u001b[43m,\u001b[49m\n\u001b[1;32m     29\u001b[0m \u001b[43m    \u001b[49m\u001b[43m}\u001b[49m\n\u001b[1;32m     30\u001b[0m \u001b[43m\u001b[49m\u001b[43m)\u001b[49m\n\u001b[1;32m     32\u001b[0m save_path \u001b[38;5;241m=\u001b[39m \u001b[38;5;124mf\u001b[39m\u001b[38;5;124m\"\u001b[39m\u001b[38;5;124m../../save/content_xgb_ranker/xgb_md\u001b[39m\u001b[38;5;132;01m{\u001b[39;00mparam[\u001b[38;5;124m'\u001b[39m\u001b[38;5;124mmax_depth\u001b[39m\u001b[38;5;124m'\u001b[39m]\u001b[38;5;132;01m}\u001b[39;00m\u001b[38;5;124m_ne\u001b[39m\u001b[38;5;132;01m{\u001b[39;00mparam[\u001b[38;5;124m'\u001b[39m\u001b[38;5;124mn_estimators\u001b[39m\u001b[38;5;124m'\u001b[39m]\u001b[38;5;132;01m}\u001b[39;00m\u001b[38;5;124m_tm\u001b[39m\u001b[38;5;132;01m{\u001b[39;00mparam[\u001b[38;5;124m'\u001b[39m\u001b[38;5;124mtree_method\u001b[39m\u001b[38;5;124m'\u001b[39m]\u001b[38;5;132;01m}\u001b[39;00m\u001b[38;5;124m\"\u001b[39m\n\u001b[1;32m     33\u001b[0m model\u001b[38;5;241m.\u001b[39msave(save_path)\n",
      "File \u001b[0;32m~/rema1/notebooks/Experiments/../../src/utils/model.py:44\u001b[0m, in \u001b[0;36mtimeit.<locals>.timed\u001b[0;34m(*args, **kwargs)\u001b[0m\n\u001b[1;32m     41\u001b[0m \u001b[38;5;129m@wraps\u001b[39m(method)\n\u001b[1;32m     42\u001b[0m \u001b[38;5;28;01mdef\u001b[39;00m \u001b[38;5;21mtimed\u001b[39m(\u001b[38;5;241m*\u001b[39margs, \u001b[38;5;241m*\u001b[39m\u001b[38;5;241m*\u001b[39mkwargs):\n\u001b[1;32m     43\u001b[0m     start_time \u001b[38;5;241m=\u001b[39m time\u001b[38;5;241m.\u001b[39mtime()\n\u001b[0;32m---> 44\u001b[0m     result \u001b[38;5;241m=\u001b[39m \u001b[43mmethod\u001b[49m\u001b[43m(\u001b[49m\u001b[38;5;241;43m*\u001b[39;49m\u001b[43margs\u001b[49m\u001b[43m,\u001b[49m\u001b[43m \u001b[49m\u001b[38;5;241;43m*\u001b[39;49m\u001b[38;5;241;43m*\u001b[39;49m\u001b[43mkwargs\u001b[49m\u001b[43m)\u001b[49m\n\u001b[1;32m     45\u001b[0m     end_time \u001b[38;5;241m=\u001b[39m time\u001b[38;5;241m.\u001b[39mtime()\n\u001b[1;32m     46\u001b[0m     \u001b[38;5;28mprint\u001b[39m(\u001b[38;5;124mf\u001b[39m\u001b[38;5;124m\"\u001b[39m\u001b[38;5;132;01m{\u001b[39;00mmethod\u001b[38;5;241m.\u001b[39m\u001b[38;5;18m__name__\u001b[39m\u001b[38;5;132;01m}\u001b[39;00m\u001b[38;5;124m took \u001b[39m\u001b[38;5;132;01m{\u001b[39;00m(end_time\u001b[38;5;250m \u001b[39m\u001b[38;5;241m-\u001b[39m\u001b[38;5;250m \u001b[39mstart_time)\u001b[38;5;132;01m:\u001b[39;00m\u001b[38;5;124m.4f\u001b[39m\u001b[38;5;132;01m}\u001b[39;00m\u001b[38;5;124m seconds\u001b[39m\u001b[38;5;124m\"\u001b[39m)\n",
      "File \u001b[0;32m~/rema1/notebooks/Experiments/../../src/models/content_xgb_ranker.py:65\u001b[0m, in \u001b[0;36mContentBasedFilteringXGRanker.fit\u001b[0;34m(self, X, y, groups, params, n_folds, early_stopping_rounds)\u001b[0m\n\u001b[1;32m     62\u001b[0m watchlist \u001b[38;5;241m=\u001b[39m [(dtrain, \u001b[38;5;124m'\u001b[39m\u001b[38;5;124mtrain\u001b[39m\u001b[38;5;124m'\u001b[39m), (dval, \u001b[38;5;124m'\u001b[39m\u001b[38;5;124mvalidation\u001b[39m\u001b[38;5;124m'\u001b[39m)]\n\u001b[1;32m     64\u001b[0m evals_result \u001b[38;5;241m=\u001b[39m {}\n\u001b[0;32m---> 65\u001b[0m model \u001b[38;5;241m=\u001b[39m \u001b[43mxgb\u001b[49m\u001b[38;5;241;43m.\u001b[39;49m\u001b[43mtrain\u001b[49m\u001b[43m(\u001b[49m\n\u001b[1;32m     66\u001b[0m \u001b[43m    \u001b[49m\u001b[43mparams\u001b[49m\u001b[43m,\u001b[49m\n\u001b[1;32m     67\u001b[0m \u001b[43m    \u001b[49m\u001b[43mdtrain\u001b[49m\u001b[43m,\u001b[49m\n\u001b[1;32m     68\u001b[0m \u001b[43m    \u001b[49m\u001b[43mnum_boost_round\u001b[49m\u001b[38;5;241;43m=\u001b[39;49m\u001b[43mparams\u001b[49m\u001b[38;5;241;43m.\u001b[39;49m\u001b[43mget\u001b[49m\u001b[43m(\u001b[49m\u001b[38;5;124;43m'\u001b[39;49m\u001b[38;5;124;43mn_estimators\u001b[39;49m\u001b[38;5;124;43m'\u001b[39;49m\u001b[43m,\u001b[49m\u001b[43m \u001b[49m\u001b[38;5;241;43m300\u001b[39;49m\u001b[43m)\u001b[49m\u001b[43m,\u001b[49m\n\u001b[1;32m     69\u001b[0m \u001b[43m    \u001b[49m\u001b[43mevals\u001b[49m\u001b[38;5;241;43m=\u001b[39;49m\u001b[43mwatchlist\u001b[49m\u001b[43m,\u001b[49m\n\u001b[1;32m     70\u001b[0m \u001b[43m    \u001b[49m\u001b[43mearly_stopping_rounds\u001b[49m\u001b[38;5;241;43m=\u001b[39;49m\u001b[43mearly_stopping_rounds\u001b[49m\u001b[43m,\u001b[49m\n\u001b[1;32m     71\u001b[0m \u001b[43m    \u001b[49m\u001b[43mevals_result\u001b[49m\u001b[38;5;241;43m=\u001b[39;49m\u001b[43mevals_result\u001b[49m\u001b[43m,\u001b[49m\n\u001b[1;32m     72\u001b[0m \u001b[43m    \u001b[49m\u001b[43mverbose_eval\u001b[49m\u001b[38;5;241;43m=\u001b[39;49m\u001b[38;5;241;43m10\u001b[39;49m\u001b[43m \u001b[49m\u001b[38;5;28;43;01mif\u001b[39;49;00m\u001b[43m \u001b[49m\u001b[38;5;28;43mself\u001b[39;49m\u001b[38;5;241;43m.\u001b[39;49m\u001b[43mverbose\u001b[49m\u001b[43m \u001b[49m\u001b[38;5;28;43;01melse\u001b[39;49;00m\u001b[43m \u001b[49m\u001b[38;5;28;43;01mFalse\u001b[39;49;00m\n\u001b[1;32m     73\u001b[0m \u001b[43m\u001b[49m\u001b[43m)\u001b[49m\n\u001b[1;32m     75\u001b[0m \u001b[38;5;28mself\u001b[39m\u001b[38;5;241m.\u001b[39mmodels\u001b[38;5;241m.\u001b[39mappend(model)\n\u001b[1;32m     76\u001b[0m best_iteration \u001b[38;5;241m=\u001b[39m model\u001b[38;5;241m.\u001b[39mbest_iteration\n",
      "File \u001b[0;32m~/rema1/.venv-tf/lib/python3.11/site-packages/xgboost/core.py:729\u001b[0m, in \u001b[0;36mrequire_keyword_args.<locals>.throw_if.<locals>.inner_f\u001b[0;34m(*args, **kwargs)\u001b[0m\n\u001b[1;32m    727\u001b[0m \u001b[38;5;28;01mfor\u001b[39;00m k, arg \u001b[38;5;129;01min\u001b[39;00m \u001b[38;5;28mzip\u001b[39m(sig\u001b[38;5;241m.\u001b[39mparameters, args):\n\u001b[1;32m    728\u001b[0m     kwargs[k] \u001b[38;5;241m=\u001b[39m arg\n\u001b[0;32m--> 729\u001b[0m \u001b[38;5;28;01mreturn\u001b[39;00m \u001b[43mfunc\u001b[49m\u001b[43m(\u001b[49m\u001b[38;5;241;43m*\u001b[39;49m\u001b[38;5;241;43m*\u001b[39;49m\u001b[43mkwargs\u001b[49m\u001b[43m)\u001b[49m\n",
      "File \u001b[0;32m~/rema1/.venv-tf/lib/python3.11/site-packages/xgboost/training.py:183\u001b[0m, in \u001b[0;36mtrain\u001b[0;34m(params, dtrain, num_boost_round, evals, obj, maximize, early_stopping_rounds, evals_result, verbose_eval, xgb_model, callbacks, custom_metric)\u001b[0m\n\u001b[1;32m    181\u001b[0m \u001b[38;5;28;01mif\u001b[39;00m cb_container\u001b[38;5;241m.\u001b[39mbefore_iteration(bst, i, dtrain, evals):\n\u001b[1;32m    182\u001b[0m     \u001b[38;5;28;01mbreak\u001b[39;00m\n\u001b[0;32m--> 183\u001b[0m \u001b[43mbst\u001b[49m\u001b[38;5;241;43m.\u001b[39;49m\u001b[43mupdate\u001b[49m\u001b[43m(\u001b[49m\u001b[43mdtrain\u001b[49m\u001b[43m,\u001b[49m\u001b[43m \u001b[49m\u001b[43miteration\u001b[49m\u001b[38;5;241;43m=\u001b[39;49m\u001b[43mi\u001b[49m\u001b[43m,\u001b[49m\u001b[43m \u001b[49m\u001b[43mfobj\u001b[49m\u001b[38;5;241;43m=\u001b[39;49m\u001b[43mobj\u001b[49m\u001b[43m)\u001b[49m\n\u001b[1;32m    184\u001b[0m \u001b[38;5;28;01mif\u001b[39;00m cb_container\u001b[38;5;241m.\u001b[39mafter_iteration(bst, i, dtrain, evals):\n\u001b[1;32m    185\u001b[0m     \u001b[38;5;28;01mbreak\u001b[39;00m\n",
      "File \u001b[0;32m~/rema1/.venv-tf/lib/python3.11/site-packages/xgboost/core.py:2247\u001b[0m, in \u001b[0;36mBooster.update\u001b[0;34m(self, dtrain, iteration, fobj)\u001b[0m\n\u001b[1;32m   2243\u001b[0m \u001b[38;5;28mself\u001b[39m\u001b[38;5;241m.\u001b[39m_assign_dmatrix_features(dtrain)\n\u001b[1;32m   2245\u001b[0m \u001b[38;5;28;01mif\u001b[39;00m fobj \u001b[38;5;129;01mis\u001b[39;00m \u001b[38;5;28;01mNone\u001b[39;00m:\n\u001b[1;32m   2246\u001b[0m     _check_call(\n\u001b[0;32m-> 2247\u001b[0m         \u001b[43m_LIB\u001b[49m\u001b[38;5;241;43m.\u001b[39;49m\u001b[43mXGBoosterUpdateOneIter\u001b[49m\u001b[43m(\u001b[49m\n\u001b[1;32m   2248\u001b[0m \u001b[43m            \u001b[49m\u001b[38;5;28;43mself\u001b[39;49m\u001b[38;5;241;43m.\u001b[39;49m\u001b[43mhandle\u001b[49m\u001b[43m,\u001b[49m\u001b[43m \u001b[49m\u001b[43mctypes\u001b[49m\u001b[38;5;241;43m.\u001b[39;49m\u001b[43mc_int\u001b[49m\u001b[43m(\u001b[49m\u001b[43miteration\u001b[49m\u001b[43m)\u001b[49m\u001b[43m,\u001b[49m\u001b[43m \u001b[49m\u001b[43mdtrain\u001b[49m\u001b[38;5;241;43m.\u001b[39;49m\u001b[43mhandle\u001b[49m\n\u001b[1;32m   2249\u001b[0m \u001b[43m        \u001b[49m\u001b[43m)\u001b[49m\n\u001b[1;32m   2250\u001b[0m     )\n\u001b[1;32m   2251\u001b[0m \u001b[38;5;28;01melse\u001b[39;00m:\n\u001b[1;32m   2252\u001b[0m     pred \u001b[38;5;241m=\u001b[39m \u001b[38;5;28mself\u001b[39m\u001b[38;5;241m.\u001b[39mpredict(dtrain, output_margin\u001b[38;5;241m=\u001b[39m\u001b[38;5;28;01mTrue\u001b[39;00m, training\u001b[38;5;241m=\u001b[39m\u001b[38;5;28;01mTrue\u001b[39;00m)\n",
      "\u001b[0;31mKeyboardInterrupt\u001b[0m: "
     ]
    }
   ],
   "source": [
    "os.makedirs(\"../../save/content_xgb_ranker\", exist_ok=True)\n",
    "\n",
    "xgb_params_list = [\n",
    "    #{\"max_depth\": 4, \"n_estimators\": 20, \"tree_method\": \"hist\"},\n",
    "    #{\"max_depth\": 6, \"n_estimators\": 50, \"tree_method\": \"hist\"},\n",
    "    #{\"max_depth\": 10, \"n_estimators\": 35, \"tree_method\": \"hist\"},\n",
    "    #{\"max_depth\": 12, \"n_estimators\": 25, \"tree_method\": \"hist\"},\n",
    "    #{\"max_depth\": 4, \"n_estimators\": 25, \"tree_method\": \"approx\"},\n",
    "    {\"max_depth\": 8, \"n_estimators\": 75, \"tree_method\": \"approx\"},\n",
    "]\n",
    "\n",
    "for param in xgb_params_list:\n",
    "    print(f\"Training XGB Ranker with params: {param}\")\n",
    "    model = ContentBasedFilteringXGRanker()\n",
    "    model.fit(\n",
    "        X_train, y_scaled, groups_train,\n",
    "        params={\n",
    "            'objective': 'rank:ndcg',\n",
    "            'eval_metric': 'ndcg@100',\n",
    "            'learning_rate': 0.05,\n",
    "            'ndcg_exp_gain': False,\n",
    "            'max_depth': param[\"max_depth\"],\n",
    "            'min_child_weight': 50,\n",
    "            'subsample': 0.8,\n",
    "            'colsample_bytree': 0.7,\n",
    "            'n_estimators': param[\"n_estimators\"],\n",
    "            'tree_method': param[\"tree_method\"],\n",
    "            'random_state': 42,\n",
    "        }\n",
    "    )\n",
    "\n",
    "    save_path = f\"../../save/content_xgb_ranker/xgb_md{param['max_depth']}_ne{param['n_estimators']}_tm{param['tree_method']}\"\n",
    "    model.save(save_path)"
   ]
  },
  {
   "cell_type": "markdown",
   "id": "643413ec-2afa-4f7e-8c09-914e03f78cc2",
   "metadata": {},
   "source": [
    "### Evaluation"
   ]
  },
  {
   "cell_type": "code",
   "execution_count": 10,
   "id": "b2c17843-a92b-4f88-8839-a68bd564cdec",
   "metadata": {},
   "outputs": [],
   "source": [
    "df_train_pivot = df_train.drop_duplicates(['user_id', 'video_id'], keep='first')\\\n",
    "            .pivot(index='user_id', columns='video_id', values='engagement')\n",
    "df_test_pivot = df_test.drop_duplicates(['user_id', 'video_id'], keep='first')\\\n",
    "            .pivot(index='user_id', columns='video_id', values='engagement')\n",
    "train_ground_truth = build_ground_truth_top_10_percent(df_train_pivot)\n",
    "test_ground_truth = build_ground_truth_top_10_percent(df_test_pivot)"
   ]
  },
  {
   "cell_type": "code",
   "execution_count": 11,
   "id": "f101d7ae-7d00-4e70-807a-9bb5d8b332ca",
   "metadata": {},
   "outputs": [
    {
     "name": "stderr",
     "output_type": "stream",
     "text": [
      "2025-05-16 11:12:04,423 - [INFO] {src.models.base} - Model loaded from ../../save/content_random_forest/rf_md10_ne50_best.pkl\n"
     ]
    },
    {
     "data": {
      "text/plain": [
       "<src.models.content_random_forest.ContentBasedFilteringRF at 0x7ff0eed8ea50>"
      ]
     },
     "execution_count": 11,
     "metadata": {},
     "output_type": "execute_result"
    }
   ],
   "source": [
    "best_xgb_model = ContentBasedFilteringXGRanker()\n",
    "best_rf_model.load(f\"../../save/content_random_forest/rf_md10_ne50_best.pkl\")"
   ]
  },
  {
   "cell_type": "code",
   "execution_count": 12,
   "id": "a37bb766-ebd7-442f-b054-f4763de5df6f",
   "metadata": {},
   "outputs": [],
   "source": [
    "X_cols = [col for col in df_test.columns if col != \"engagement\"]\n",
    "X_test = df_test[X_cols].to_numpy(copy=False)\n",
    "y_test = df_test[\"engagement\"]\n",
    "mask = ~np.isnan(X_test).any(axis=1)\n",
    "X_test_clean = X_test[mask]\n",
    "y_test_clean = y_test[mask]\n",
    "all_user_item_ids = X_test_clean[: , :2] # video_id, user_id"
   ]
  },
  {
   "cell_type": "code",
   "execution_count": 13,
   "id": "a8234492-4728-4178-b6d5-7b1583a5f572",
   "metadata": {},
   "outputs": [
    {
     "name": "stderr",
     "output_type": "stream",
     "text": [
      "2025-05-16 11:12:05,391 - [INFO] {src.models.base} - Generating predictions for 12571 samples...\n",
      "2025-05-16 11:12:05,392 - [INFO] {src.models.base} - Using best model for prediction\n"
     ]
    },
    {
     "name": "stdout",
     "output_type": "stream",
     "text": [
      "predict took 0.0136 seconds\n",
      "recommend took 0.0200 seconds\n",
      "user 14: 44 / 100 test recommendations in ground truth\n",
      "user 19: 38 / 100 test recommendations in ground truth\n",
      "user 21: 57 / 100 test recommendations in ground truth\n",
      "user 23: 20 / 100 test recommendations in ground truth\n"
     ]
    }
   ],
   "source": [
    "K = 100\n",
    "N_USERS = 10\n",
    "\n",
    "user_ids = [14, 19, 21, 23]\n",
    "\n",
    "mask = np.isin(X_test_clean[:, 1], user_ids) # second column is user id\n",
    "X_subset = X_test_clean[mask]\n",
    "all_user_item_ids_subset = all_user_item_ids[mask]\n",
    "\n",
    "recommendations = best_rf_model.recommend(\n",
    "    X=X_subset,\n",
    "    user_ids=user_ids,\n",
    "    all_user_item_ids=all_user_item_ids_subset,\n",
    "    top_n=K\n",
    ")\n",
    "\n",
    "for user in user_ids:\n",
    "    recommended_items = [item_id for item_id, _ in recommendations.get(user, [])]\n",
    "\n",
    "    test_hits = len(set(test_ground_truth.get(user, [])).intersection(recommended_items))\n",
    "    print(f\"user {user}: {test_hits} / {K} test recommendations in ground truth\")"
   ]
  },
  {
   "cell_type": "code",
   "execution_count": 24,
   "id": "88b0ad64-3c33-41c0-97c9-c11f1bb3689b",
   "metadata": {},
   "outputs": [
    {
     "name": "stderr",
     "output_type": "stream",
     "text": [
      "2025-05-16 11:12:31,830 - [INFO] {src.models.base} - Generating predictions for 31447 samples...\n",
      "2025-05-16 11:12:31,831 - [INFO] {src.models.base} - Using best model for prediction\n"
     ]
    },
    {
     "name": "stdout",
     "output_type": "stream",
     "text": [
      "Selected users: [5265.0, 6409.0, 4528.0, 3101.0, 2220.0, 4439.0, 4140.0, 4037.0, 1590.0, 6039.0]\n",
      "predict took 0.1712 seconds\n",
      "recommend took 0.1928 seconds\n"
     ]
    }
   ],
   "source": [
    "test_sample_user_ids = random.sample(list(np.unique(X_test_clean[:, 1])), N_USERS)\n",
    "test_sample_recommendations = {}\n",
    "print(f\"Selected users: {test_sample_user_ids}\")\n",
    "\n",
    "mask = np.isin(X_test_clean[:, 1], test_sample_user_ids) # second column is user id\n",
    "X_subset = X_test_clean[mask]\n",
    "all_user_item_ids_subset = all_user_item_ids[mask]\n",
    "\n",
    "test_sample_recommendations_with_scores = best_rf_model.recommend(\n",
    "    X=X_subset,\n",
    "    user_ids=test_sample_user_ids,\n",
    "    all_user_item_ids=all_user_item_ids_subset,\n",
    "    top_n=K\n",
    ")\n",
    "test_sample_recommendations = {\n",
    "    user: [item_id for item_id, _ in item_score_list]\n",
    "    for user, item_score_list in test_sample_recommendations_with_scores.items()\n",
    "}\n",
    "test_sample_ground_truth = {user: test_ground_truth.get(user, []) for user in test_sample_user_ids}"
   ]
  },
  {
   "cell_type": "code",
   "execution_count": 25,
   "id": "9ffa8f25-56a6-447d-b707-0903d3c0350f",
   "metadata": {
    "scrolled": true
   },
   "outputs": [
    {
     "name": "stdout",
     "output_type": "stream",
     "text": [
      "Testing: k=100, users=10\n",
      "\n",
      "NDCG@100 = 0.6008\n",
      "MAP@100 = 0.5520\n",
      "MAR@100 = 0.1674\n",
      "F1@100 = 0.2569\n"
     ]
    }
   ],
   "source": [
    "print(f\"Testing: k={K}, users={N_USERS}\\n\")\n",
    "bench_model(recommendations=test_sample_recommendations, ground_truth=test_sample_ground_truth, k=K)"
   ]
  },
  {
   "cell_type": "markdown",
   "id": "4150b8ef-8b09-4f34-bb18-67ba348b7726",
   "metadata": {},
   "source": [
    "## FFNN\n",
    "* implementation: `src/models/content_ffnn.py`"
   ]
  },
  {
   "cell_type": "markdown",
   "id": "d90a894e-6619-4d33-a950-3e6a9d370994",
   "metadata": {},
   "source": [
    "### Model & Hyperparams\n",
    "\n",
    "Scaling y recommendation between 0 and 20"
   ]
  },
  {
   "cell_type": "code",
   "execution_count": 3,
   "id": "2de5aee2-d5a7-4290-ac6b-8abb23f28462",
   "metadata": {},
   "outputs": [],
   "source": [
    "X_cols = [col for col in df_train.columns if col != \"engagement\"]\n",
    "X_train = df_train[X_cols].to_numpy(copy=False)\n",
    "y_train = df_train[\"engagement\"]\n",
    "groups_train = df_train[\"user_id\"].to_numpy(copy=False)\n",
    "mask = ~np.isnan(X_train).any(axis=1)\n",
    "X_train_clean = X_train[mask]\n",
    "y_train_clean = y_train[mask]\n",
    "groups_train_clean = groups_train[mask]"
   ]
  },
  {
   "cell_type": "code",
   "execution_count": null,
   "id": "2e1307e5-8cb7-41d5-a2a4-3e064b014499",
   "metadata": {
    "scrolled": true
   },
   "outputs": [
    {
     "name": "stderr",
     "output_type": "stream",
     "text": [
      "2025-05-17 09:26:22,814 - [INFO] {src.models.base} - Starting training with parameters: {'hidden_layers': [64, 32], 'dropout_rate': 0.3, 'learning_rate': 0.01, 'l2_reg': 0.0005, 'batch_size': 512, 'epochs': 5, 'patience': 2, 'activation': 'relu', 'random_state': 42}\n"
     ]
    },
    {
     "name": "stdout",
     "output_type": "stream",
     "text": [
      "\n",
      "[1/9] Training Neural Network with params:\n",
      "  hidden_layers: [64, 32]\n",
      "  dropout_rate: 0.3\n",
      "  learning_rate: 0.01\n",
      "  l2_reg: 0.0005\n",
      "  batch_size: 512\n",
      "  epochs: 5\n",
      "  patience: 2\n",
      "  activation: relu\n",
      "  random_state: 42\n"
     ]
    },
    {
     "name": "stderr",
     "output_type": "stream",
     "text": [
      "/home/mateo/rema1/.venv-tf/lib/python3.11/site-packages/keras/src/layers/core/dense.py:87: UserWarning: Do not pass an `input_shape`/`input_dim` argument to a layer. When using Sequential models, prefer using an `Input(shape)` object as the first layer in the model instead.\n",
      "  super().__init__(activity_regularizer=activity_regularizer, **kwargs)\n",
      "2025-05-17 09:26:22.830961: E external/local_xla/xla/stream_executor/cuda/cuda_platform.cc:51] failed call to cuInit: INTERNAL: CUDA error: Failed call to cuInit: UNKNOWN ERROR (303)\n",
      "2025-05-17 09:26:22.831019: I external/local_xla/xla/stream_executor/cuda/cuda_diagnostics.cc:178] verbose logging is disabled. Rerun with verbose logging (usually --v=1 or --vmodule=cuda_diagnostics=1) to get more diagnostic output from this module\n",
      "2025-05-17 09:26:22.831031: I external/local_xla/xla/stream_executor/cuda/cuda_diagnostics.cc:183] retrieving CUDA diagnostic information for host: nixos\n",
      "2025-05-17 09:26:22.831039: I external/local_xla/xla/stream_executor/cuda/cuda_diagnostics.cc:190] hostname: nixos\n",
      "2025-05-17 09:26:22.831266: I external/local_xla/xla/stream_executor/cuda/cuda_diagnostics.cc:197] libcuda reported version is: NOT_FOUND: was unable to find libcuda.so DSO loaded into this program. The library may be missing or provided via another object.\n",
      "2025-05-17 09:26:22.831335: I external/local_xla/xla/stream_executor/cuda/cuda_diagnostics.cc:201] kernel reported version is: 550.142.0\n"
     ]
    },
    {
     "data": {
      "text/html": [
       "<pre style=\"white-space:pre;overflow-x:auto;line-height:normal;font-family:Menlo,'DejaVu Sans Mono',consolas,'Courier New',monospace\"><span style=\"font-weight: bold\">Model: \"sequential\"</span>\n",
       "</pre>\n"
      ],
      "text/plain": [
       "\u001b[1mModel: \"sequential\"\u001b[0m\n"
      ]
     },
     "metadata": {},
     "output_type": "display_data"
    },
    {
     "data": {
      "text/html": [
       "<pre style=\"white-space:pre;overflow-x:auto;line-height:normal;font-family:Menlo,'DejaVu Sans Mono',consolas,'Courier New',monospace\">┏━━━━━━━━━━━━━━━━━━━━━━━━━━━━━━━━━┳━━━━━━━━━━━━━━━━━━━━━━━━┳━━━━━━━━━━━━━━━┓\n",
       "┃<span style=\"font-weight: bold\"> Layer (type)                    </span>┃<span style=\"font-weight: bold\"> Output Shape           </span>┃<span style=\"font-weight: bold\">       Param # </span>┃\n",
       "┡━━━━━━━━━━━━━━━━━━━━━━━━━━━━━━━━━╇━━━━━━━━━━━━━━━━━━━━━━━━╇━━━━━━━━━━━━━━━┩\n",
       "│ dense (<span style=\"color: #0087ff; text-decoration-color: #0087ff\">Dense</span>)                   │ (<span style=\"color: #00d7ff; text-decoration-color: #00d7ff\">None</span>, <span style=\"color: #00af00; text-decoration-color: #00af00\">64</span>)             │         <span style=\"color: #00af00; text-decoration-color: #00af00\">2,624</span> │\n",
       "├─────────────────────────────────┼────────────────────────┼───────────────┤\n",
       "│ batch_normalization             │ (<span style=\"color: #00d7ff; text-decoration-color: #00d7ff\">None</span>, <span style=\"color: #00af00; text-decoration-color: #00af00\">64</span>)             │           <span style=\"color: #00af00; text-decoration-color: #00af00\">256</span> │\n",
       "│ (<span style=\"color: #0087ff; text-decoration-color: #0087ff\">BatchNormalization</span>)            │                        │               │\n",
       "├─────────────────────────────────┼────────────────────────┼───────────────┤\n",
       "│ dropout (<span style=\"color: #0087ff; text-decoration-color: #0087ff\">Dropout</span>)               │ (<span style=\"color: #00d7ff; text-decoration-color: #00d7ff\">None</span>, <span style=\"color: #00af00; text-decoration-color: #00af00\">64</span>)             │             <span style=\"color: #00af00; text-decoration-color: #00af00\">0</span> │\n",
       "├─────────────────────────────────┼────────────────────────┼───────────────┤\n",
       "│ dense_1 (<span style=\"color: #0087ff; text-decoration-color: #0087ff\">Dense</span>)                 │ (<span style=\"color: #00d7ff; text-decoration-color: #00d7ff\">None</span>, <span style=\"color: #00af00; text-decoration-color: #00af00\">32</span>)             │         <span style=\"color: #00af00; text-decoration-color: #00af00\">2,080</span> │\n",
       "├─────────────────────────────────┼────────────────────────┼───────────────┤\n",
       "│ batch_normalization_1           │ (<span style=\"color: #00d7ff; text-decoration-color: #00d7ff\">None</span>, <span style=\"color: #00af00; text-decoration-color: #00af00\">32</span>)             │           <span style=\"color: #00af00; text-decoration-color: #00af00\">128</span> │\n",
       "│ (<span style=\"color: #0087ff; text-decoration-color: #0087ff\">BatchNormalization</span>)            │                        │               │\n",
       "├─────────────────────────────────┼────────────────────────┼───────────────┤\n",
       "│ dropout_1 (<span style=\"color: #0087ff; text-decoration-color: #0087ff\">Dropout</span>)             │ (<span style=\"color: #00d7ff; text-decoration-color: #00d7ff\">None</span>, <span style=\"color: #00af00; text-decoration-color: #00af00\">32</span>)             │             <span style=\"color: #00af00; text-decoration-color: #00af00\">0</span> │\n",
       "├─────────────────────────────────┼────────────────────────┼───────────────┤\n",
       "│ dense_2 (<span style=\"color: #0087ff; text-decoration-color: #0087ff\">Dense</span>)                 │ (<span style=\"color: #00d7ff; text-decoration-color: #00d7ff\">None</span>, <span style=\"color: #00af00; text-decoration-color: #00af00\">1</span>)              │            <span style=\"color: #00af00; text-decoration-color: #00af00\">33</span> │\n",
       "└─────────────────────────────────┴────────────────────────┴───────────────┘\n",
       "</pre>\n"
      ],
      "text/plain": [
       "┏━━━━━━━━━━━━━━━━━━━━━━━━━━━━━━━━━┳━━━━━━━━━━━━━━━━━━━━━━━━┳━━━━━━━━━━━━━━━┓\n",
       "┃\u001b[1m \u001b[0m\u001b[1mLayer (type)                   \u001b[0m\u001b[1m \u001b[0m┃\u001b[1m \u001b[0m\u001b[1mOutput Shape          \u001b[0m\u001b[1m \u001b[0m┃\u001b[1m \u001b[0m\u001b[1m      Param #\u001b[0m\u001b[1m \u001b[0m┃\n",
       "┡━━━━━━━━━━━━━━━━━━━━━━━━━━━━━━━━━╇━━━━━━━━━━━━━━━━━━━━━━━━╇━━━━━━━━━━━━━━━┩\n",
       "│ dense (\u001b[38;5;33mDense\u001b[0m)                   │ (\u001b[38;5;45mNone\u001b[0m, \u001b[38;5;34m64\u001b[0m)             │         \u001b[38;5;34m2,624\u001b[0m │\n",
       "├─────────────────────────────────┼────────────────────────┼───────────────┤\n",
       "│ batch_normalization             │ (\u001b[38;5;45mNone\u001b[0m, \u001b[38;5;34m64\u001b[0m)             │           \u001b[38;5;34m256\u001b[0m │\n",
       "│ (\u001b[38;5;33mBatchNormalization\u001b[0m)            │                        │               │\n",
       "├─────────────────────────────────┼────────────────────────┼───────────────┤\n",
       "│ dropout (\u001b[38;5;33mDropout\u001b[0m)               │ (\u001b[38;5;45mNone\u001b[0m, \u001b[38;5;34m64\u001b[0m)             │             \u001b[38;5;34m0\u001b[0m │\n",
       "├─────────────────────────────────┼────────────────────────┼───────────────┤\n",
       "│ dense_1 (\u001b[38;5;33mDense\u001b[0m)                 │ (\u001b[38;5;45mNone\u001b[0m, \u001b[38;5;34m32\u001b[0m)             │         \u001b[38;5;34m2,080\u001b[0m │\n",
       "├─────────────────────────────────┼────────────────────────┼───────────────┤\n",
       "│ batch_normalization_1           │ (\u001b[38;5;45mNone\u001b[0m, \u001b[38;5;34m32\u001b[0m)             │           \u001b[38;5;34m128\u001b[0m │\n",
       "│ (\u001b[38;5;33mBatchNormalization\u001b[0m)            │                        │               │\n",
       "├─────────────────────────────────┼────────────────────────┼───────────────┤\n",
       "│ dropout_1 (\u001b[38;5;33mDropout\u001b[0m)             │ (\u001b[38;5;45mNone\u001b[0m, \u001b[38;5;34m32\u001b[0m)             │             \u001b[38;5;34m0\u001b[0m │\n",
       "├─────────────────────────────────┼────────────────────────┼───────────────┤\n",
       "│ dense_2 (\u001b[38;5;33mDense\u001b[0m)                 │ (\u001b[38;5;45mNone\u001b[0m, \u001b[38;5;34m1\u001b[0m)              │            \u001b[38;5;34m33\u001b[0m │\n",
       "└─────────────────────────────────┴────────────────────────┴───────────────┘\n"
      ]
     },
     "metadata": {},
     "output_type": "display_data"
    },
    {
     "data": {
      "text/html": [
       "<pre style=\"white-space:pre;overflow-x:auto;line-height:normal;font-family:Menlo,'DejaVu Sans Mono',consolas,'Courier New',monospace\"><span style=\"font-weight: bold\"> Total params: </span><span style=\"color: #00af00; text-decoration-color: #00af00\">5,121</span> (20.00 KB)\n",
       "</pre>\n"
      ],
      "text/plain": [
       "\u001b[1m Total params: \u001b[0m\u001b[38;5;34m5,121\u001b[0m (20.00 KB)\n"
      ]
     },
     "metadata": {},
     "output_type": "display_data"
    },
    {
     "data": {
      "text/html": [
       "<pre style=\"white-space:pre;overflow-x:auto;line-height:normal;font-family:Menlo,'DejaVu Sans Mono',consolas,'Courier New',monospace\"><span style=\"font-weight: bold\"> Trainable params: </span><span style=\"color: #00af00; text-decoration-color: #00af00\">4,929</span> (19.25 KB)\n",
       "</pre>\n"
      ],
      "text/plain": [
       "\u001b[1m Trainable params: \u001b[0m\u001b[38;5;34m4,929\u001b[0m (19.25 KB)\n"
      ]
     },
     "metadata": {},
     "output_type": "display_data"
    },
    {
     "data": {
      "text/html": [
       "<pre style=\"white-space:pre;overflow-x:auto;line-height:normal;font-family:Menlo,'DejaVu Sans Mono',consolas,'Courier New',monospace\"><span style=\"font-weight: bold\"> Non-trainable params: </span><span style=\"color: #00af00; text-decoration-color: #00af00\">192</span> (768.00 B)\n",
       "</pre>\n"
      ],
      "text/plain": [
       "\u001b[1m Non-trainable params: \u001b[0m\u001b[38;5;34m192\u001b[0m (768.00 B)\n"
      ]
     },
     "metadata": {},
     "output_type": "display_data"
    },
    {
     "name": "stdout",
     "output_type": "stream",
     "text": [
      "Epoch 1/5\n"
     ]
    },
    {
     "name": "stderr",
     "output_type": "stream",
     "text": [
      "2025-05-17 09:26:24.200944: W external/local_xla/xla/tsl/framework/cpu_allocator_impl.cc:83] Allocation of 1570444320 exceeds 10% of free system memory.\n"
     ]
    },
    {
     "name": "stdout",
     "output_type": "stream",
     "text": [
      "\u001b[1m19171/19171\u001b[0m \u001b[32m━━━━━━━━━━━━━━━━━━━━\u001b[0m\u001b[37m\u001b[0m \u001b[1m175s\u001b[0m 9ms/step - loss: 5.2921 - learning_rate: 0.0100\n",
      "Epoch 2/5\n",
      "\u001b[1m19171/19171\u001b[0m \u001b[32m━━━━━━━━━━━━━━━━━━━━\u001b[0m\u001b[37m\u001b[0m \u001b[1m172s\u001b[0m 9ms/step - loss: 5.2719 - learning_rate: 0.0100\n",
      "Epoch 3/5\n",
      "\u001b[1m19171/19171\u001b[0m \u001b[32m━━━━━━━━━━━━━━━━━━━━\u001b[0m\u001b[37m\u001b[0m \u001b[1m181s\u001b[0m 9ms/step - loss: 5.2718 - learning_rate: 0.0100\n",
      "Epoch 4/5\n",
      "\u001b[1m19171/19171\u001b[0m \u001b[32m━━━━━━━━━━━━━━━━━━━━\u001b[0m\u001b[37m\u001b[0m \u001b[1m189s\u001b[0m 10ms/step - loss: 5.2715 - learning_rate: 0.0100\n",
      "Epoch 5/5\n"
     ]
    }
   ],
   "source": [
    "os.makedirs(\"../../save/content_nn_ranker\", exist_ok=True)\n",
    "\n",
    "nn_params_list = [\n",
    "    # Architecture variations - smaller to larger networks\n",
    "    #{\n",
    "    #    \"hidden_layers\": [64],\n",
    "    #    \"dropout_rate\": 0.2,\n",
    "    #    \"learning_rate\": 0.01,\n",
    "    #    \"l2_reg\": 0.001,\n",
    "    #    \"batch_size\": 256,\n",
    "    #    \"epochs\": 10,\n",
    "    #    \"patience\": 10,\n",
    "    #    \"activation\": \"relu\",\n",
    "    #    \"random_state\": 42\n",
    "    #},\n",
    "    {\n",
    "        \"hidden_layers\": [64, 32],\n",
    "        \"dropout_rate\": 0.3,\n",
    "        \"learning_rate\": 0.01,\n",
    "        \"l2_reg\": 0.0005,\n",
    "        \"batch_size\": 512,\n",
    "        \"epochs\": 5,\n",
    "        \"patience\": 2,\n",
    "        \"activation\": \"relu\",\n",
    "        \"random_state\": 42\n",
    "    },\n",
    "    {\n",
    "        \"hidden_layers\": [128, 64, 32],\n",
    "        \"dropout_rate\": 0.3,\n",
    "        \"learning_rate\": 0.01,\n",
    "        \"l2_reg\": 0.0005,\n",
    "        \"batch_size\": 512, \n",
    "        \"epochs\": 5,\n",
    "        \"patience\": 2,\n",
    "        \"activation\": \"relu\",\n",
    "        \"random_state\": 42\n",
    "    },\n",
    "    # Learning rate variations\n",
    "    {\n",
    "        \"hidden_layers\": [64, 32, 16],\n",
    "        \"dropout_rate\": 0.3,\n",
    "        \"learning_rate\": 0.1,  # Higher learning rate\n",
    "        \"l2_reg\": 0.0005,\n",
    "        \"batch_size\": 512,\n",
    "        \"epochs\": 5,\n",
    "        \"patience\": 2,\n",
    "        \"activation\": \"relu\",\n",
    "        \"random_state\": 42\n",
    "    },\n",
    "    {\n",
    "        \"hidden_layers\": [64, 32, 16],\n",
    "        \"dropout_rate\": 0.3,\n",
    "        \"learning_rate\": 0.0001,\n",
    "        \"l2_reg\": 0.0005,\n",
    "        \"batch_size\": 512,\n",
    "        \"epochs\": 5,\n",
    "        \"patience\": 2,\n",
    "        \"activation\": \"relu\",\n",
    "        \"random_state\": 42\n",
    "    },\n",
    "    # Regularization variations\n",
    "    {\n",
    "        \"hidden_layers\": [64, 32, 16],\n",
    "        \"dropout_rate\": 0.5,\n",
    "        \"learning_rate\": 0.01,\n",
    "        \"l2_reg\": 0.001,\n",
    "        \"batch_size\": 512,\n",
    "        \"epochs\": 5,\n",
    "        \"patience\": 2,\n",
    "        \"activation\": \"relu\",\n",
    "        \"random_state\": 42\n",
    "    },\n",
    "    {\n",
    "        \"hidden_layers\": [64, 32, 16],\n",
    "        \"dropout_rate\": 0.2,\n",
    "        \"learning_rate\": 0.001,\n",
    "        \"l2_reg\": 0.01,\n",
    "        \"batch_size\": 512,\n",
    "        \"epochs\": 5,\n",
    "        \"patience\": 2,\n",
    "        \"activation\": \"relu\",\n",
    "        \"random_state\": 42\n",
    "    },\n",
    "    # Activation function variations\n",
    "    {\n",
    "        \"hidden_layers\": [64, 32, 16],\n",
    "        \"dropout_rate\": 0.3,\n",
    "        \"learning_rate\": 0.001,\n",
    "        \"l2_reg\": 0.0005,\n",
    "        \"batch_size\": 512,\n",
    "        \"epochs\": 5,\n",
    "        \"patience\": 2,\n",
    "        \"activation\": \"elu\",  # Different activation function\n",
    "        \"random_state\": 42\n",
    "    },\n",
    "    # Batch size variations\n",
    "    {\n",
    "        \"hidden_layers\": [64, 32, 16],\n",
    "        \"dropout_rate\": 0.3,\n",
    "        \"learning_rate\": 0.001,\n",
    "        \"l2_reg\": 0.0005,\n",
    "        \"batch_size\": 128,\n",
    "        \"epochs\": 5,\n",
    "        \"patience\": 2,\n",
    "        \"activation\": \"relu\",\n",
    "        \"random_state\": 42\n",
    "    },\n",
    "    {\n",
    "        \"hidden_layers\": [64, 32, 16],\n",
    "        \"dropout_rate\": 0.3,\n",
    "        \"learning_rate\": 0.001,\n",
    "        \"l2_reg\": 0.0005,\n",
    "        \"batch_size\": 512,\n",
    "        \"epochs\": 5,\n",
    "        \"patience\": 2,\n",
    "        \"activation\": \"relu\",\n",
    "        \"random_state\": 42\n",
    "    }\n",
    "]\n",
    "\n",
    "def get_model_name(params):\n",
    "    layers_str = \"_\".join(str(l) for l in params[\"hidden_layers\"])\n",
    "    return (f\"nn_layers{layers_str}_dr{params['dropout_rate']}_\"\n",
    "            f\"lr{params['learning_rate']}_l2{params['l2_reg']}_\"\n",
    "            f\"bs{params['batch_size']}_act{params['activation']}\")\n",
    "\n",
    "for i, params in enumerate(nn_params_list):\n",
    "    print(f\"\\n[{i+1}/{len(nn_params_list)}] Training Neural Network with params:\")\n",
    "    for key, value in params.items():\n",
    "        print(f\"  {key}: {value}\")\n",
    "\n",
    "    model = ContentBasedFilteringNN()\n",
    "    model.fit(\n",
    "        X_train_clean, y_train_clean, groups_train_clean,\n",
    "        params=params\n",
    "    )\n",
    "\n",
    "    model_name = get_model_name(params)\n",
    "    save_path = f\"../../save/content_nn_ranker/{model_name}.keras\"\n",
    "    model.save(save_path)\n",
    "    \n",
    "    print(f\"Model saved to {save_path}\")"
   ]
  },
  {
   "cell_type": "markdown",
   "id": "8181ca08-0bed-4b14-b426-12b7af4cffcd",
   "metadata": {},
   "source": [
    "### Evaluation"
   ]
  },
  {
   "cell_type": "code",
   "execution_count": 10,
   "id": "472dd454-0e78-40d2-83f0-3d8256e3e185",
   "metadata": {},
   "outputs": [],
   "source": [
    "df_train_pivot = df_train.drop_duplicates(['user_id', 'video_id'], keep='first')\\\n",
    "            .pivot(index='user_id', columns='video_id', values='engagement')\n",
    "df_test_pivot = df_test.drop_duplicates(['user_id', 'video_id'], keep='first')\\\n",
    "            .pivot(index='user_id', columns='video_id', values='engagement')\n",
    "train_ground_truth = build_ground_truth_top_10_percent(df_train_pivot)\n",
    "test_ground_truth = build_ground_truth_top_10_percent(df_test_pivot)"
   ]
  },
  {
   "cell_type": "code",
   "execution_count": 11,
   "id": "54968460-b97c-41cc-ae97-13b4ed1a5333",
   "metadata": {},
   "outputs": [
    {
     "name": "stderr",
     "output_type": "stream",
     "text": [
      "2025-05-16 11:12:04,423 - [INFO] {src.models.base} - Model loaded from ../../save/content_random_forest/rf_md10_ne50_best.pkl\n"
     ]
    },
    {
     "data": {
      "text/plain": [
       "<src.models.content_random_forest.ContentBasedFilteringRF at 0x7ff0eed8ea50>"
      ]
     },
     "execution_count": 11,
     "metadata": {},
     "output_type": "execute_result"
    }
   ],
   "source": [
    "best_nn_model = ContentBasedFilteringNN()\n",
    "best_nn_model.load(f\"../../save/content_nn_ranker/\")"
   ]
  },
  {
   "cell_type": "code",
   "execution_count": 12,
   "id": "0d07df98-aba1-4d3e-b084-a263d48a7810",
   "metadata": {},
   "outputs": [],
   "source": [
    "X_cols = [col for col in df_test.columns if col != \"engagement\"]\n",
    "X_test = df_test[X_cols].to_numpy(copy=False)\n",
    "y_test = df_test[\"engagement\"]\n",
    "mask = ~np.isnan(X_test).any(axis=1)\n",
    "X_test_clean = X_test[mask]\n",
    "y_test_clean = y_test[mask]\n",
    "all_user_item_ids = X_test_clean[: , :2] # video_id, user_id"
   ]
  },
  {
   "cell_type": "code",
   "execution_count": 13,
   "id": "a63c50d9-8b19-4d1b-a28b-13624115f00b",
   "metadata": {},
   "outputs": [
    {
     "name": "stderr",
     "output_type": "stream",
     "text": [
      "2025-05-16 11:12:05,391 - [INFO] {src.models.base} - Generating predictions for 12571 samples...\n",
      "2025-05-16 11:12:05,392 - [INFO] {src.models.base} - Using best model for prediction\n"
     ]
    },
    {
     "name": "stdout",
     "output_type": "stream",
     "text": [
      "predict took 0.0136 seconds\n",
      "recommend took 0.0200 seconds\n",
      "user 14: 44 / 100 test recommendations in ground truth\n",
      "user 19: 38 / 100 test recommendations in ground truth\n",
      "user 21: 57 / 100 test recommendations in ground truth\n",
      "user 23: 20 / 100 test recommendations in ground truth\n"
     ]
    }
   ],
   "source": [
    "K = 100\n",
    "N_USERS = 10\n",
    "\n",
    "user_ids = [14, 19, 21, 23]\n",
    "\n",
    "mask = np.isin(X_test_clean[:, 1], user_ids) # second column is user id\n",
    "X_subset = X_test_clean[mask]\n",
    "all_user_item_ids_subset = all_user_item_ids[mask]\n",
    "\n",
    "recommendations = best_rf_model.recommend(\n",
    "    X=X_subset,\n",
    "    user_ids=user_ids,\n",
    "    all_user_item_ids=all_user_item_ids_subset,\n",
    "    top_n=K\n",
    ")\n",
    "\n",
    "for user in user_ids:\n",
    "    recommended_items = [item_id for item_id, _ in recommendations.get(user, [])]\n",
    "\n",
    "    test_hits = len(set(test_ground_truth.get(user, [])).intersection(recommended_items))\n",
    "    print(f\"user {user}: {test_hits} / {K} test recommendations in ground truth\")"
   ]
  },
  {
   "cell_type": "code",
   "execution_count": 24,
   "id": "d83c0883-18d7-4698-ab4a-61629391ccb0",
   "metadata": {},
   "outputs": [
    {
     "name": "stderr",
     "output_type": "stream",
     "text": [
      "2025-05-16 11:12:31,830 - [INFO] {src.models.base} - Generating predictions for 31447 samples...\n",
      "2025-05-16 11:12:31,831 - [INFO] {src.models.base} - Using best model for prediction\n"
     ]
    },
    {
     "name": "stdout",
     "output_type": "stream",
     "text": [
      "Selected users: [5265.0, 6409.0, 4528.0, 3101.0, 2220.0, 4439.0, 4140.0, 4037.0, 1590.0, 6039.0]\n",
      "predict took 0.1712 seconds\n",
      "recommend took 0.1928 seconds\n"
     ]
    }
   ],
   "source": [
    "test_sample_user_ids = random.sample(list(np.unique(X_test_clean[:, 1])), N_USERS)\n",
    "test_sample_recommendations = {}\n",
    "print(f\"Selected users: {test_sample_user_ids}\")\n",
    "\n",
    "mask = np.isin(X_test_clean[:, 1], test_sample_user_ids) # second column is user id\n",
    "X_subset = X_test_clean[mask]\n",
    "all_user_item_ids_subset = all_user_item_ids[mask]\n",
    "\n",
    "test_sample_recommendations_with_scores = best_rf_model.recommend(\n",
    "    X=X_subset,\n",
    "    user_ids=test_sample_user_ids,\n",
    "    all_user_item_ids=all_user_item_ids_subset,\n",
    "    top_n=K\n",
    ")\n",
    "test_sample_recommendations = {\n",
    "    user: [item_id for item_id, _ in item_score_list]\n",
    "    for user, item_score_list in test_sample_recommendations_with_scores.items()\n",
    "}\n",
    "test_sample_ground_truth = {user: test_ground_truth.get(user, []) for user in test_sample_user_ids}"
   ]
  },
  {
   "cell_type": "code",
   "execution_count": 25,
   "id": "e97cd374-b67f-48cd-b264-9d678f0bce5a",
   "metadata": {
    "scrolled": true
   },
   "outputs": [
    {
     "name": "stdout",
     "output_type": "stream",
     "text": [
      "Testing: k=100, users=10\n",
      "\n",
      "NDCG@100 = 0.6008\n",
      "MAP@100 = 0.5520\n",
      "MAR@100 = 0.1674\n",
      "F1@100 = 0.2569\n"
     ]
    }
   ],
   "source": [
    "print(f\"Testing: k={K}, users={N_USERS}\\n\")\n",
    "bench_model(recommendations=test_sample_recommendations, ground_truth=test_sample_ground_truth, k=K)"
   ]
  },
  {
   "cell_type": "code",
   "execution_count": null,
   "id": "65bdb74d-1e99-4055-a0b6-e3acd23652db",
   "metadata": {},
   "outputs": [],
   "source": []
  }
 ],
 "metadata": {
  "kernelspec": {
   "display_name": "Python (TensorFlow venv)",
   "language": "python",
   "name": "tf-venv"
  },
  "language_info": {
   "codemirror_mode": {
    "name": "ipython",
    "version": 3
   },
   "file_extension": ".py",
   "mimetype": "text/x-python",
   "name": "python",
   "nbconvert_exporter": "python",
   "pygments_lexer": "ipython3",
   "version": "3.11.8"
  }
 },
 "nbformat": 4,
 "nbformat_minor": 5
}
