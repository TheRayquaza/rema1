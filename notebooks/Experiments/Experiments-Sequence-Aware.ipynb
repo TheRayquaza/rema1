{
 "cells": [
  {
   "cell_type": "markdown",
   "id": "7cce9cd1-faeb-4d72-afac-f0e276720d96",
   "metadata": {},
   "source": [
    "# Expirements \n",
    "\n",
    "For each different types of recommendation system, we will provide a quick explanation of meaningful features and how they could be ingested into the model\n",
    "\n",
    "The base model will be a simple collaborative filtering system based on the interractions matrix"
   ]
  },
  {
   "cell_type": "markdown",
   "id": "5b56f05b-aa92-43f9-bed9-c6af3a2b10d6",
   "metadata": {},
   "source": [
    "## Hybrid Approaches\n",
    "\n",
    "Combines collaborative and content-based models.\n",
    "* **User Features**:\n",
    "    - Interaction history summary\n",
    "    - Engagement frequency\n",
    "\n",
    "* **Item Features**:\n",
    "    - Video metadata\n",
    "    - Creator characteristics\n",
    "\n",
    "* **Interaction Features**:\n",
    "    - Historical user-item interaction stats\n",
    "    - Engagement signals (full watch)\n",
    "    - Combined user-item embeddings\n",
    "\n",
    "* **Temporal Features**:\n",
    "    - Recency of interaction\n",
    "    - Time since last activity\n",
    "    - Item age (newness/trending factor)\n",
    "    - Temporal decay of older items\n"
   ]
  },
  {
   "cell_type": "code",
   "execution_count": null,
   "id": "1835e8d2-429d-4723-aa53-f5c3fc39e85a",
   "metadata": {},
   "outputs": [],
   "source": []
  },
  {
   "cell_type": "code",
   "execution_count": null,
   "id": "c2ed3a44-ed0b-42e1-bd18-3ff9dc1b47f3",
   "metadata": {},
   "outputs": [],
   "source": []
  }
 ],
 "metadata": {
  "kernelspec": {
   "display_name": "Python 3 (ipykernel)",
   "language": "python",
   "name": "python3"
  },
  "language_info": {
   "codemirror_mode": {
    "name": "ipython",
    "version": 3
   },
   "file_extension": ".py",
   "mimetype": "text/x-python",
   "name": "python",
   "nbconvert_exporter": "python",
   "pygments_lexer": "ipython3",
   "version": "3.12.9"
  }
 },
 "nbformat": 4,
 "nbformat_minor": 5
}
