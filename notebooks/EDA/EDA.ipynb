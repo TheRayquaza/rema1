{
 "cells": [
  {
   "cell_type": "markdown",
   "id": "2fb714ab-27ef-4e36-9189-e88dc33528e3",
   "metadata": {},
   "source": [
    "# EDA\n",
    "\n",
    "This is EDA of the [KuaiRec](https://kuairec.com/) dataset which has been presented in the paper of August 2022 [KuaiRec: A Fully-observed Dataset and Insights for Evaluating\n",
    "Recommender Systems](https://arxiv.org/pdf/2202.10842.pdf)\n",
    "\n",
    "The idea is to perform a preliminary data analysis on all the provided dataset to select the most interesting preprocessing and model to be used in our final implementation"
   ]
  },
  {
   "cell_type": "markdown",
   "id": "7d62c8da-1d28-462d-9ccc-39096bb5bf35",
   "metadata": {},
   "source": [
    "## Table of content\n",
    "\n",
    "- [EDA on User Features](./EDA_User_features.ipynb)\n",
    "- [EDA on Video Features](./EDA_Item_features.ipynb)\n",
    "- [EDA on Interactions](./EDA_interactions.ipynb)"
   ]
  },
  {
   "cell_type": "code",
   "execution_count": null,
   "id": "85136974-6030-40ca-8101-51e066315633",
   "metadata": {},
   "outputs": [],
   "source": [
    "%%bash\n",
    "pip install tensorflow implicit"
   ]
  },
  {
   "cell_type": "code",
   "execution_count": null,
   "id": "ffd1bdde-d2c6-4b26-9311-1d73643dc7d9",
   "metadata": {},
   "outputs": [],
   "source": [
    "# scatter matrix"
   ]
  }
 ],
 "metadata": {
  "kernelspec": {
   "display_name": "Python 3 (ipykernel)",
   "language": "python",
   "name": "python3"
  },
  "language_info": {
   "codemirror_mode": {
    "name": "ipython",
    "version": 3
   },
   "file_extension": ".py",
   "mimetype": "text/x-python",
   "name": "python",
   "nbconvert_exporter": "python",
   "pygments_lexer": "ipython3",
   "version": "3.12.9"
  }
 },
 "nbformat": 4,
 "nbformat_minor": 5
}
