{
 "cells": [
  {
   "cell_type": "markdown",
   "id": "4f34e020-800d-41f5-877c-24dbbf39f7ff",
   "metadata": {},
   "source": [
    "# EDA on Video Features\n",
    "\n",
    "- Data types ✅\n",
    "- Missing values / Inconsistency ✅\n",
    "- Features in each dataset ✅\n",
    "- Size ✅\n",
    "- Duplicates ✅\n",
    "- Outliers ✅\n",
    "- What are the types of videos ?\n",
    "- What are the unique videos ? ✅\n",
    "- What are famous videos ? ✅\n",
    "- What is the correlation between engagement and duration ? ✅\n",
    "- Are there any patterns between the number of views and the level of engagement?\n",
    "- How long do “famous” videos stay relevant? (popularity lifespan)\n",
    "- What kinds of videos generate the most rewatches?\n",
    "- What is the age of a video's impact ?\n",
    "- Are there temporal trends in interactions ?\n",
    "- How quickly do users interact with a new video after it’s posted?"
   ]
  },
  {
   "cell_type": "markdown",
   "id": "670f019b-b700-4c97-ba0d-d610a158ab6e",
   "metadata": {},
   "source": [
    "## Video Features"
   ]
  },
  {
   "cell_type": "markdown",
   "id": "dbbe2d15-c8e1-433d-8acb-b89298c84da5",
   "metadata": {},
   "source": [
    "We can use the video features including caption and categories.\n",
    "\n",
    "This may be useful if we were to **recommend a video using its categories and its caption**.\n",
    "\n",
    "This dataset can also be useful to create **the categories id mapping** (category_id -> category_name)"
   ]
  },
  {
   "cell_type": "code",
   "execution_count": null,
   "id": "105943aa-eb3f-4226-868a-c19fa322f20c",
   "metadata": {},
   "outputs": [],
   "source": [
    "video_features = pd.read_csv(\"../data_final_project/KuaiRec 2.0/data/kuairec_caption_category.csv\", lineterminator='\\n')\n",
    "video_features.head()"
   ]
  },
  {
   "cell_type": "markdown",
   "id": "b3674703-85ad-40f1-9d1e-a4b9d5358897",
   "metadata": {},
   "source": [
    "## Video Categories"
   ]
  },
  {
   "cell_type": "code",
   "execution_count": null,
   "id": "e2829ba2-34d8-430e-a4ee-c77ff1c447a4",
   "metadata": {},
   "outputs": [],
   "source": [
    "The video categories dataset "
   ]
  },
  {
   "cell_type": "code",
   "execution_count": null,
   "id": "b6507703-9027-4f68-b118-53555f12c3d2",
   "metadata": {},
   "outputs": [],
   "source": [
    "video_categories = pd.read_csv(\"../data_final_project/KuaiRec 2.0/data/item_categories.csv\")\n",
    "video_categories.head()"
   ]
  },
  {
   "cell_type": "code",
   "execution_count": null,
   "id": "aab5f4f2-1cf0-4ab4-98ea-da81b8a460af",
   "metadata": {},
   "outputs": [],
   "source": []
  },
  {
   "cell_type": "markdown",
   "id": "58c6f8af-ad18-4b12-93e5-fb3e5e10acaf",
   "metadata": {},
   "source": [
    "## Video Daily Features"
   ]
  },
  {
   "cell_type": "markdown",
   "id": "9e792c2c-b533-4d30-81df-5aa026f66f7c",
   "metadata": {},
   "source": [
    "This dataset contains daily interactions on the video.\n",
    "\n",
    "This may be useful when we'll consider **video characterstics on a daily basis** or to **create a more long term feature**."
   ]
  },
  {
   "cell_type": "code",
   "execution_count": null,
   "id": "227b1993-5bd0-4cc2-9a72-7d262c77ae8d",
   "metadata": {},
   "outputs": [],
   "source": [
    "video_daily = pd.read_csv(\"../data_final_project/KuaiRec 2.0/data/item_daily_features.csv\")\n",
    "video_daily.head()"
   ]
  },
  {
   "cell_type": "code",
   "execution_count": null,
   "id": "56f3feda-be72-481a-9b23-374b59258b31",
   "metadata": {},
   "outputs": [],
   "source": [
    "video_daily.describe()"
   ]
  }
 ],
 "metadata": {
  "kernelspec": {
   "display_name": "Python 3 (ipykernel)",
   "language": "python",
   "name": "python3"
  },
  "language_info": {
   "codemirror_mode": {
    "name": "ipython",
    "version": 3
   },
   "file_extension": ".py",
   "mimetype": "text/x-python",
   "name": "python",
   "nbconvert_exporter": "python",
   "pygments_lexer": "ipython3",
   "version": "3.12.9"
  }
 },
 "nbformat": 4,
 "nbformat_minor": 5
}
